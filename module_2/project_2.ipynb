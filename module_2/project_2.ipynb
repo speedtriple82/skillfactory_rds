{
 "cells": [
  {
   "cell_type": "markdown",
   "metadata": {},
   "source": [
    "# Анализ данных для предсказания результатов экзаменов школьников"
   ]
  },
  {
   "cell_type": "markdown",
   "metadata": {},
   "source": [
    "Задачей проекта является проведение EDA (разведывательного анализа данных) на примере датасета содержащего информацию об учениках американских школ. \n",
    "В процессе анализа необходимо выяснить влияние условий жизни и учебы школьников на их оценки по математике для создания модели предсказывающей что ученик находится в группе риска и может плохо сдать математику."
   ]
  },
  {
   "cell_type": "code",
   "execution_count": 2,
   "metadata": {},
   "outputs": [],
   "source": [
    "import pandas as pd\n",
    "import matplotlib.pyplot as plt\n",
    "import seaborn as sns\n",
    "from itertools import combinations\n",
    "from scipy.stats import ttest_ind\n",
    "\n",
    "dk = pd.read_csv('stud_math.csv') # dk - data kids"
   ]
  },
  {
   "cell_type": "code",
   "execution_count": 3,
   "metadata": {},
   "outputs": [
    {
     "data": {
      "text/html": [
       "<div>\n",
       "<style scoped>\n",
       "    .dataframe tbody tr th:only-of-type {\n",
       "        vertical-align: middle;\n",
       "    }\n",
       "\n",
       "    .dataframe tbody tr th {\n",
       "        vertical-align: top;\n",
       "    }\n",
       "\n",
       "    .dataframe thead th {\n",
       "        text-align: right;\n",
       "    }\n",
       "</style>\n",
       "<table border=\"1\" class=\"dataframe\">\n",
       "  <thead>\n",
       "    <tr style=\"text-align: right;\">\n",
       "      <th></th>\n",
       "      <th>school</th>\n",
       "      <th>sex</th>\n",
       "      <th>age</th>\n",
       "      <th>address</th>\n",
       "      <th>famsize</th>\n",
       "      <th>Pstatus</th>\n",
       "      <th>Medu</th>\n",
       "      <th>Fedu</th>\n",
       "      <th>Mjob</th>\n",
       "      <th>Fjob</th>\n",
       "      <th>...</th>\n",
       "      <th>studytime, granular</th>\n",
       "      <th>higher</th>\n",
       "      <th>internet</th>\n",
       "      <th>romantic</th>\n",
       "      <th>famrel</th>\n",
       "      <th>freetime</th>\n",
       "      <th>goout</th>\n",
       "      <th>health</th>\n",
       "      <th>absences</th>\n",
       "      <th>score</th>\n",
       "    </tr>\n",
       "  </thead>\n",
       "  <tbody>\n",
       "    <tr>\n",
       "      <th>0</th>\n",
       "      <td>GP</td>\n",
       "      <td>F</td>\n",
       "      <td>18</td>\n",
       "      <td>U</td>\n",
       "      <td>NaN</td>\n",
       "      <td>A</td>\n",
       "      <td>4.0</td>\n",
       "      <td>4.0</td>\n",
       "      <td>at_home</td>\n",
       "      <td>teacher</td>\n",
       "      <td>...</td>\n",
       "      <td>-6.0</td>\n",
       "      <td>yes</td>\n",
       "      <td>NaN</td>\n",
       "      <td>no</td>\n",
       "      <td>4.0</td>\n",
       "      <td>3.0</td>\n",
       "      <td>4.0</td>\n",
       "      <td>3.0</td>\n",
       "      <td>6.0</td>\n",
       "      <td>30.0</td>\n",
       "    </tr>\n",
       "    <tr>\n",
       "      <th>1</th>\n",
       "      <td>GP</td>\n",
       "      <td>F</td>\n",
       "      <td>17</td>\n",
       "      <td>U</td>\n",
       "      <td>GT3</td>\n",
       "      <td>NaN</td>\n",
       "      <td>1.0</td>\n",
       "      <td>1.0</td>\n",
       "      <td>at_home</td>\n",
       "      <td>other</td>\n",
       "      <td>...</td>\n",
       "      <td>-6.0</td>\n",
       "      <td>yes</td>\n",
       "      <td>yes</td>\n",
       "      <td>no</td>\n",
       "      <td>5.0</td>\n",
       "      <td>3.0</td>\n",
       "      <td>3.0</td>\n",
       "      <td>3.0</td>\n",
       "      <td>4.0</td>\n",
       "      <td>30.0</td>\n",
       "    </tr>\n",
       "    <tr>\n",
       "      <th>2</th>\n",
       "      <td>GP</td>\n",
       "      <td>F</td>\n",
       "      <td>15</td>\n",
       "      <td>U</td>\n",
       "      <td>LE3</td>\n",
       "      <td>T</td>\n",
       "      <td>1.0</td>\n",
       "      <td>1.0</td>\n",
       "      <td>at_home</td>\n",
       "      <td>other</td>\n",
       "      <td>...</td>\n",
       "      <td>-6.0</td>\n",
       "      <td>yes</td>\n",
       "      <td>yes</td>\n",
       "      <td>NaN</td>\n",
       "      <td>4.0</td>\n",
       "      <td>3.0</td>\n",
       "      <td>2.0</td>\n",
       "      <td>3.0</td>\n",
       "      <td>10.0</td>\n",
       "      <td>50.0</td>\n",
       "    </tr>\n",
       "    <tr>\n",
       "      <th>3</th>\n",
       "      <td>GP</td>\n",
       "      <td>F</td>\n",
       "      <td>15</td>\n",
       "      <td>U</td>\n",
       "      <td>GT3</td>\n",
       "      <td>T</td>\n",
       "      <td>4.0</td>\n",
       "      <td>2.0</td>\n",
       "      <td>health</td>\n",
       "      <td>NaN</td>\n",
       "      <td>...</td>\n",
       "      <td>-9.0</td>\n",
       "      <td>yes</td>\n",
       "      <td>yes</td>\n",
       "      <td>yes</td>\n",
       "      <td>3.0</td>\n",
       "      <td>2.0</td>\n",
       "      <td>2.0</td>\n",
       "      <td>5.0</td>\n",
       "      <td>2.0</td>\n",
       "      <td>75.0</td>\n",
       "    </tr>\n",
       "    <tr>\n",
       "      <th>4</th>\n",
       "      <td>GP</td>\n",
       "      <td>F</td>\n",
       "      <td>16</td>\n",
       "      <td>U</td>\n",
       "      <td>GT3</td>\n",
       "      <td>T</td>\n",
       "      <td>3.0</td>\n",
       "      <td>3.0</td>\n",
       "      <td>other</td>\n",
       "      <td>other</td>\n",
       "      <td>...</td>\n",
       "      <td>-6.0</td>\n",
       "      <td>yes</td>\n",
       "      <td>no</td>\n",
       "      <td>no</td>\n",
       "      <td>4.0</td>\n",
       "      <td>3.0</td>\n",
       "      <td>2.0</td>\n",
       "      <td>5.0</td>\n",
       "      <td>4.0</td>\n",
       "      <td>50.0</td>\n",
       "    </tr>\n",
       "    <tr>\n",
       "      <th>5</th>\n",
       "      <td>GP</td>\n",
       "      <td>M</td>\n",
       "      <td>16</td>\n",
       "      <td>U</td>\n",
       "      <td>LE3</td>\n",
       "      <td>T</td>\n",
       "      <td>4.0</td>\n",
       "      <td>3.0</td>\n",
       "      <td>services</td>\n",
       "      <td>other</td>\n",
       "      <td>...</td>\n",
       "      <td>-6.0</td>\n",
       "      <td>yes</td>\n",
       "      <td>yes</td>\n",
       "      <td>no</td>\n",
       "      <td>5.0</td>\n",
       "      <td>4.0</td>\n",
       "      <td>2.0</td>\n",
       "      <td>5.0</td>\n",
       "      <td>10.0</td>\n",
       "      <td>75.0</td>\n",
       "    </tr>\n",
       "    <tr>\n",
       "      <th>6</th>\n",
       "      <td>GP</td>\n",
       "      <td>M</td>\n",
       "      <td>16</td>\n",
       "      <td>NaN</td>\n",
       "      <td>LE3</td>\n",
       "      <td>T</td>\n",
       "      <td>2.0</td>\n",
       "      <td>2.0</td>\n",
       "      <td>other</td>\n",
       "      <td>other</td>\n",
       "      <td>...</td>\n",
       "      <td>-6.0</td>\n",
       "      <td>yes</td>\n",
       "      <td>yes</td>\n",
       "      <td>no</td>\n",
       "      <td>4.0</td>\n",
       "      <td>4.0</td>\n",
       "      <td>4.0</td>\n",
       "      <td>3.0</td>\n",
       "      <td>0.0</td>\n",
       "      <td>55.0</td>\n",
       "    </tr>\n",
       "    <tr>\n",
       "      <th>7</th>\n",
       "      <td>GP</td>\n",
       "      <td>F</td>\n",
       "      <td>17</td>\n",
       "      <td>U</td>\n",
       "      <td>GT3</td>\n",
       "      <td>A</td>\n",
       "      <td>4.0</td>\n",
       "      <td>4.0</td>\n",
       "      <td>other</td>\n",
       "      <td>teacher</td>\n",
       "      <td>...</td>\n",
       "      <td>-6.0</td>\n",
       "      <td>yes</td>\n",
       "      <td>no</td>\n",
       "      <td>no</td>\n",
       "      <td>4.0</td>\n",
       "      <td>1.0</td>\n",
       "      <td>4.0</td>\n",
       "      <td>1.0</td>\n",
       "      <td>6.0</td>\n",
       "      <td>30.0</td>\n",
       "    </tr>\n",
       "    <tr>\n",
       "      <th>8</th>\n",
       "      <td>GP</td>\n",
       "      <td>M</td>\n",
       "      <td>15</td>\n",
       "      <td>U</td>\n",
       "      <td>LE3</td>\n",
       "      <td>A</td>\n",
       "      <td>3.0</td>\n",
       "      <td>2.0</td>\n",
       "      <td>services</td>\n",
       "      <td>other</td>\n",
       "      <td>...</td>\n",
       "      <td>-6.0</td>\n",
       "      <td>yes</td>\n",
       "      <td>yes</td>\n",
       "      <td>no</td>\n",
       "      <td>NaN</td>\n",
       "      <td>2.0</td>\n",
       "      <td>2.0</td>\n",
       "      <td>1.0</td>\n",
       "      <td>0.0</td>\n",
       "      <td>95.0</td>\n",
       "    </tr>\n",
       "    <tr>\n",
       "      <th>9</th>\n",
       "      <td>GP</td>\n",
       "      <td>M</td>\n",
       "      <td>15</td>\n",
       "      <td>U</td>\n",
       "      <td>NaN</td>\n",
       "      <td>NaN</td>\n",
       "      <td>3.0</td>\n",
       "      <td>4.0</td>\n",
       "      <td>other</td>\n",
       "      <td>other</td>\n",
       "      <td>...</td>\n",
       "      <td>-6.0</td>\n",
       "      <td>yes</td>\n",
       "      <td>yes</td>\n",
       "      <td>no</td>\n",
       "      <td>5.0</td>\n",
       "      <td>5.0</td>\n",
       "      <td>1.0</td>\n",
       "      <td>5.0</td>\n",
       "      <td>0.0</td>\n",
       "      <td>75.0</td>\n",
       "    </tr>\n",
       "  </tbody>\n",
       "</table>\n",
       "<p>10 rows × 30 columns</p>\n",
       "</div>"
      ],
      "text/plain": [
       "  school sex  age address famsize Pstatus  Medu  Fedu      Mjob     Fjob  ...  \\\n",
       "0     GP   F   18       U     NaN       A   4.0   4.0   at_home  teacher  ...   \n",
       "1     GP   F   17       U     GT3     NaN   1.0   1.0   at_home    other  ...   \n",
       "2     GP   F   15       U     LE3       T   1.0   1.0   at_home    other  ...   \n",
       "3     GP   F   15       U     GT3       T   4.0   2.0    health      NaN  ...   \n",
       "4     GP   F   16       U     GT3       T   3.0   3.0     other    other  ...   \n",
       "5     GP   M   16       U     LE3       T   4.0   3.0  services    other  ...   \n",
       "6     GP   M   16     NaN     LE3       T   2.0   2.0     other    other  ...   \n",
       "7     GP   F   17       U     GT3       A   4.0   4.0     other  teacher  ...   \n",
       "8     GP   M   15       U     LE3       A   3.0   2.0  services    other  ...   \n",
       "9     GP   M   15       U     NaN     NaN   3.0   4.0     other    other  ...   \n",
       "\n",
       "  studytime, granular higher  internet  romantic  famrel freetime goout  \\\n",
       "0                -6.0    yes       NaN        no     4.0      3.0   4.0   \n",
       "1                -6.0    yes       yes        no     5.0      3.0   3.0   \n",
       "2                -6.0    yes       yes       NaN     4.0      3.0   2.0   \n",
       "3                -9.0    yes       yes       yes     3.0      2.0   2.0   \n",
       "4                -6.0    yes        no        no     4.0      3.0   2.0   \n",
       "5                -6.0    yes       yes        no     5.0      4.0   2.0   \n",
       "6                -6.0    yes       yes        no     4.0      4.0   4.0   \n",
       "7                -6.0    yes        no        no     4.0      1.0   4.0   \n",
       "8                -6.0    yes       yes        no     NaN      2.0   2.0   \n",
       "9                -6.0    yes       yes        no     5.0      5.0   1.0   \n",
       "\n",
       "  health absences score  \n",
       "0    3.0      6.0  30.0  \n",
       "1    3.0      4.0  30.0  \n",
       "2    3.0     10.0  50.0  \n",
       "3    5.0      2.0  75.0  \n",
       "4    5.0      4.0  50.0  \n",
       "5    5.0     10.0  75.0  \n",
       "6    3.0      0.0  55.0  \n",
       "7    1.0      6.0  30.0  \n",
       "8    1.0      0.0  95.0  \n",
       "9    5.0      0.0  75.0  \n",
       "\n",
       "[10 rows x 30 columns]"
      ]
     },
     "metadata": {},
     "output_type": "display_data"
    },
    {
     "name": "stdout",
     "output_type": "stream",
     "text": [
      "<class 'pandas.core.frame.DataFrame'>\n",
      "RangeIndex: 395 entries, 0 to 394\n",
      "Data columns (total 30 columns):\n",
      " #   Column               Non-Null Count  Dtype  \n",
      "---  ------               --------------  -----  \n",
      " 0   school               395 non-null    object \n",
      " 1   sex                  395 non-null    object \n",
      " 2   age                  395 non-null    int64  \n",
      " 3   address              378 non-null    object \n",
      " 4   famsize              368 non-null    object \n",
      " 5   Pstatus              350 non-null    object \n",
      " 6   Medu                 392 non-null    float64\n",
      " 7   Fedu                 371 non-null    float64\n",
      " 8   Mjob                 376 non-null    object \n",
      " 9   Fjob                 359 non-null    object \n",
      " 10  reason               378 non-null    object \n",
      " 11  guardian             364 non-null    object \n",
      " 12  traveltime           367 non-null    float64\n",
      " 13  studytime            388 non-null    float64\n",
      " 14  failures             373 non-null    float64\n",
      " 15  schoolsup            386 non-null    object \n",
      " 16  famsup               356 non-null    object \n",
      " 17  paid                 355 non-null    object \n",
      " 18  activities           381 non-null    object \n",
      " 19  nursery              379 non-null    object \n",
      " 20  studytime, granular  388 non-null    float64\n",
      " 21  higher               375 non-null    object \n",
      " 22  internet             361 non-null    object \n",
      " 23  romantic             364 non-null    object \n",
      " 24  famrel               368 non-null    float64\n",
      " 25  freetime             384 non-null    float64\n",
      " 26  goout                387 non-null    float64\n",
      " 27  health               380 non-null    float64\n",
      " 28  absences             383 non-null    float64\n",
      " 29  score                389 non-null    float64\n",
      "dtypes: float64(12), int64(1), object(17)\n",
      "memory usage: 92.7+ KB\n"
     ]
    }
   ],
   "source": [
    "display(dk.head(10))\n",
    "dk.info()"
   ]
  },
  {
   "cell_type": "code",
   "execution_count": 4,
   "metadata": {},
   "outputs": [],
   "source": [
    "# переименуем один столбец для удобства\n",
    "dk.rename(columns={'studytime, granular': 'st_gran'}, inplace=True)\n"
   ]
  },
  {
   "cell_type": "markdown",
   "metadata": {},
   "source": [
    "## Колонка school"
   ]
  },
  {
   "cell_type": "code",
   "execution_count": 5,
   "metadata": {},
   "outputs": [
    {
     "data": {
      "text/html": [
       "<div>\n",
       "<style scoped>\n",
       "    .dataframe tbody tr th:only-of-type {\n",
       "        vertical-align: middle;\n",
       "    }\n",
       "\n",
       "    .dataframe tbody tr th {\n",
       "        vertical-align: top;\n",
       "    }\n",
       "\n",
       "    .dataframe thead th {\n",
       "        text-align: right;\n",
       "    }\n",
       "</style>\n",
       "<table border=\"1\" class=\"dataframe\">\n",
       "  <thead>\n",
       "    <tr style=\"text-align: right;\">\n",
       "      <th></th>\n",
       "      <th>school</th>\n",
       "    </tr>\n",
       "  </thead>\n",
       "  <tbody>\n",
       "    <tr>\n",
       "      <th>GP</th>\n",
       "      <td>349</td>\n",
       "    </tr>\n",
       "    <tr>\n",
       "      <th>MS</th>\n",
       "      <td>46</td>\n",
       "    </tr>\n",
       "  </tbody>\n",
       "</table>\n",
       "</div>"
      ],
      "text/plain": [
       "    school\n",
       "GP     349\n",
       "MS      46"
      ]
     },
     "execution_count": 5,
     "metadata": {},
     "output_type": "execute_result"
    }
   ],
   "source": [
    "pd.DataFrame(dk.school.value_counts())"
   ]
  },
  {
   "cell_type": "markdown",
   "metadata": {},
   "source": [
    "Данные есть по двум школам. В последствии можно посмотреть в какой школе получают лучшие оценки. "
   ]
  },
  {
   "cell_type": "markdown",
   "metadata": {},
   "source": [
    "## Колонка sex"
   ]
  },
  {
   "cell_type": "code",
   "execution_count": 6,
   "metadata": {},
   "outputs": [
    {
     "data": {
      "text/html": [
       "<div>\n",
       "<style scoped>\n",
       "    .dataframe tbody tr th:only-of-type {\n",
       "        vertical-align: middle;\n",
       "    }\n",
       "\n",
       "    .dataframe tbody tr th {\n",
       "        vertical-align: top;\n",
       "    }\n",
       "\n",
       "    .dataframe thead th {\n",
       "        text-align: right;\n",
       "    }\n",
       "</style>\n",
       "<table border=\"1\" class=\"dataframe\">\n",
       "  <thead>\n",
       "    <tr style=\"text-align: right;\">\n",
       "      <th></th>\n",
       "      <th>sex</th>\n",
       "    </tr>\n",
       "  </thead>\n",
       "  <tbody>\n",
       "    <tr>\n",
       "      <th>F</th>\n",
       "      <td>208</td>\n",
       "    </tr>\n",
       "    <tr>\n",
       "      <th>M</th>\n",
       "      <td>187</td>\n",
       "    </tr>\n",
       "  </tbody>\n",
       "</table>\n",
       "</div>"
      ],
      "text/plain": [
       "   sex\n",
       "F  208\n",
       "M  187"
      ]
     },
     "execution_count": 6,
     "metadata": {},
     "output_type": "execute_result"
    }
   ],
   "source": [
    "pd.DataFrame(dk.sex.value_counts())"
   ]
  },
  {
   "cell_type": "markdown",
   "metadata": {},
   "source": [
    "Девочек в выборке немного больше чем мальчиков (примерно на 11%)"
   ]
  },
  {
   "cell_type": "markdown",
   "metadata": {},
   "source": [
    "## Колонка age"
   ]
  },
  {
   "cell_type": "code",
   "execution_count": 7,
   "metadata": {},
   "outputs": [
    {
     "data": {
      "text/plain": [
       "count    395.000000\n",
       "mean      16.696203\n",
       "std        1.276043\n",
       "min       15.000000\n",
       "25%       16.000000\n",
       "50%       17.000000\n",
       "75%       18.000000\n",
       "max       22.000000\n",
       "Name: age, dtype: float64"
      ]
     },
     "execution_count": 7,
     "metadata": {},
     "output_type": "execute_result"
    },
    {
     "data": {
      "image/png": "[encoded data removed]",
      "text/plain": [
       "<Figure size 432x288 with 1 Axes>"
      ]
     },
     "metadata": {
      "needs_background": "light"
     },
     "output_type": "display_data"
    }
   ],
   "source": [
    "dk.age.plot(kind = 'box', grid = True)\n",
    "dk.age.describe()"
   ]
  },
  {
   "cell_type": "code",
   "execution_count": 8,
   "metadata": {},
   "outputs": [
    {
     "data": {
      "text/plain": [
       "<matplotlib.axes._subplots.AxesSubplot at 0xbf350a0>"
      ]
     },
     "execution_count": 8,
     "metadata": {},
     "output_type": "execute_result"
    },
    {
     "data": {
      "image/png": "[encoded data removed]",
      "text/plain": [
       "<Figure size 432x288 with 1 Axes>"
      ]
     },
     "metadata": {
      "needs_background": "light"
     },
     "output_type": "display_data"
    }
   ],
   "source": [
    "dk.age.plot(kind = 'hist', grid = True, width = 0.6, bins = 8)"
   ]
  },
  {
   "cell_type": "markdown",
   "metadata": {},
   "source": [
    "Основная масса студентов имеет возраст от 15-ти до 18 лет. При этом видим что возраст в 22 года является выбросом. Исключим данные о 22-ух летних студентах из нашего набора."
   ]
  },
  {
   "cell_type": "code",
   "execution_count": 9,
   "metadata": {},
   "outputs": [],
   "source": [
    "dk = dk[(dk.age < 22)]"
   ]
  },
  {
   "cell_type": "markdown",
   "metadata": {},
   "source": [
    "# Колонка address"
   ]
  },
  {
   "cell_type": "markdown",
   "metadata": {},
   "source": [
    "Отметим что в колонке имеются NaN. Здесь и далее количество строк с NaN считается как разница количества строк и количества ненулевых значений для данной колонки. Данные о количестве строк и ненулевых значений обновляются после фильтрации выбросов в процессе первичного анализа данных. Перед проверкой каждой колонки запускаю dk.info() смотрю разницу. Можно конечно выводить данные не по всему датасету а по отдельной колонке, но мне удобнее контролировать изменения всей таблицы"
   ]
  },
  {
   "cell_type": "code",
   "execution_count": 10,
   "metadata": {},
   "outputs": [
    {
     "data": {
      "text/html": [
       "<div>\n",
       "<style scoped>\n",
       "    .dataframe tbody tr th:only-of-type {\n",
       "        vertical-align: middle;\n",
       "    }\n",
       "\n",
       "    .dataframe tbody tr th {\n",
       "        vertical-align: top;\n",
       "    }\n",
       "\n",
       "    .dataframe thead th {\n",
       "        text-align: right;\n",
       "    }\n",
       "</style>\n",
       "<table border=\"1\" class=\"dataframe\">\n",
       "  <thead>\n",
       "    <tr style=\"text-align: right;\">\n",
       "      <th></th>\n",
       "      <th>address</th>\n",
       "    </tr>\n",
       "  </thead>\n",
       "  <tbody>\n",
       "    <tr>\n",
       "      <th>U</th>\n",
       "      <td>294</td>\n",
       "    </tr>\n",
       "    <tr>\n",
       "      <th>R</th>\n",
       "      <td>83</td>\n",
       "    </tr>\n",
       "  </tbody>\n",
       "</table>\n",
       "</div>"
      ],
      "text/plain": [
       "   address\n",
       "U      294\n",
       "R       83"
      ]
     },
     "execution_count": 10,
     "metadata": {},
     "output_type": "execute_result"
    }
   ],
   "source": [
    "pd.DataFrame(dk.address.value_counts())"
   ]
  },
  {
   "cell_type": "markdown",
   "metadata": {},
   "source": [
    "Примерно 75% студентов живут в городе, 21% за городом и по 4% процентам данных нет. Примем что эти 4% тоже живут в городе, что минимально отразится результатах"
   ]
  },
  {
   "cell_type": "code",
   "execution_count": 11,
   "metadata": {},
   "outputs": [
    {
     "data": {
      "text/html": [
       "<div>\n",
       "<style scoped>\n",
       "    .dataframe tbody tr th:only-of-type {\n",
       "        vertical-align: middle;\n",
       "    }\n",
       "\n",
       "    .dataframe tbody tr th {\n",
       "        vertical-align: top;\n",
       "    }\n",
       "\n",
       "    .dataframe thead th {\n",
       "        text-align: right;\n",
       "    }\n",
       "</style>\n",
       "<table border=\"1\" class=\"dataframe\">\n",
       "  <thead>\n",
       "    <tr style=\"text-align: right;\">\n",
       "      <th></th>\n",
       "      <th>address</th>\n",
       "    </tr>\n",
       "  </thead>\n",
       "  <tbody>\n",
       "    <tr>\n",
       "      <th>U</th>\n",
       "      <td>311</td>\n",
       "    </tr>\n",
       "    <tr>\n",
       "      <th>R</th>\n",
       "      <td>83</td>\n",
       "    </tr>\n",
       "  </tbody>\n",
       "</table>\n",
       "</div>"
      ],
      "text/plain": [
       "   address\n",
       "U      311\n",
       "R       83"
      ]
     },
     "execution_count": 11,
     "metadata": {},
     "output_type": "execute_result"
    }
   ],
   "source": [
    "dk.address.fillna('U', inplace = True)\n",
    "pd.DataFrame(dk.address.value_counts())"
   ]
  },
  {
   "cell_type": "markdown",
   "metadata": {},
   "source": [
    "## Колонка famsize"
   ]
  },
  {
   "cell_type": "code",
   "execution_count": 12,
   "metadata": {},
   "outputs": [
    {
     "data": {
      "text/html": [
       "<div>\n",
       "<style scoped>\n",
       "    .dataframe tbody tr th:only-of-type {\n",
       "        vertical-align: middle;\n",
       "    }\n",
       "\n",
       "    .dataframe tbody tr th {\n",
       "        vertical-align: top;\n",
       "    }\n",
       "\n",
       "    .dataframe thead th {\n",
       "        text-align: right;\n",
       "    }\n",
       "</style>\n",
       "<table border=\"1\" class=\"dataframe\">\n",
       "  <thead>\n",
       "    <tr style=\"text-align: right;\">\n",
       "      <th></th>\n",
       "      <th>famsize</th>\n",
       "    </tr>\n",
       "  </thead>\n",
       "  <tbody>\n",
       "    <tr>\n",
       "      <th>GT3</th>\n",
       "      <td>260</td>\n",
       "    </tr>\n",
       "    <tr>\n",
       "      <th>LE3</th>\n",
       "      <td>107</td>\n",
       "    </tr>\n",
       "  </tbody>\n",
       "</table>\n",
       "</div>"
      ],
      "text/plain": [
       "     famsize\n",
       "GT3      260\n",
       "LE3      107"
      ]
     },
     "execution_count": 12,
     "metadata": {},
     "output_type": "execute_result"
    }
   ],
   "source": [
    "pd.DataFrame(dk.famsize.value_counts())"
   ]
  },
  {
   "cell_type": "markdown",
   "metadata": {},
   "source": [
    "У 66% студентов в семье больше трех человек, у 27% - меньше трех, по 7% процентам данных нет. В данном случае 7% могут довльно сильно исказить картину поэтому заменим значения NaN на no_data"
   ]
  },
  {
   "cell_type": "code",
   "execution_count": 13,
   "metadata": {},
   "outputs": [],
   "source": [
    "dk.famsize.fillna('no_data', inplace = True)"
   ]
  },
  {
   "cell_type": "markdown",
   "metadata": {},
   "source": [
    "## Колонка Pstatus"
   ]
  },
  {
   "cell_type": "code",
   "execution_count": 14,
   "metadata": {},
   "outputs": [
    {
     "data": {
      "text/html": [
       "<div>\n",
       "<style scoped>\n",
       "    .dataframe tbody tr th:only-of-type {\n",
       "        vertical-align: middle;\n",
       "    }\n",
       "\n",
       "    .dataframe tbody tr th {\n",
       "        vertical-align: top;\n",
       "    }\n",
       "\n",
       "    .dataframe thead th {\n",
       "        text-align: right;\n",
       "    }\n",
       "</style>\n",
       "<table border=\"1\" class=\"dataframe\">\n",
       "  <thead>\n",
       "    <tr style=\"text-align: right;\">\n",
       "      <th></th>\n",
       "      <th>Pstatus</th>\n",
       "    </tr>\n",
       "  </thead>\n",
       "  <tbody>\n",
       "    <tr>\n",
       "      <th>T</th>\n",
       "      <td>313</td>\n",
       "    </tr>\n",
       "    <tr>\n",
       "      <th>A</th>\n",
       "      <td>36</td>\n",
       "    </tr>\n",
       "  </tbody>\n",
       "</table>\n",
       "</div>"
      ],
      "text/plain": [
       "   Pstatus\n",
       "T      313\n",
       "A       36"
      ]
     },
     "execution_count": 14,
     "metadata": {},
     "output_type": "execute_result"
    }
   ],
   "source": [
    "pd.DataFrame(dk.Pstatus.value_counts())"
   ]
  },
  {
   "cell_type": "markdown",
   "metadata": {},
   "source": [
    " 79.5% студентов живут в полных семьях, 9% - в неполных, 11.5% - данных нет. Здесь также заменим NaN на no_data"
   ]
  },
  {
   "cell_type": "code",
   "execution_count": 15,
   "metadata": {},
   "outputs": [],
   "source": [
    "dk.Pstatus.fillna('no_data', inplace = True)"
   ]
  },
  {
   "cell_type": "markdown",
   "metadata": {},
   "source": [
    "## Колонка Medu"
   ]
  },
  {
   "cell_type": "code",
   "execution_count": 16,
   "metadata": {},
   "outputs": [
    {
     "data": {
      "text/plain": [
       "count    391.000000\n",
       "mean       2.749361\n",
       "std        1.099461\n",
       "min        0.000000\n",
       "25%        2.000000\n",
       "50%        3.000000\n",
       "75%        4.000000\n",
       "max        4.000000\n",
       "Name: Medu, dtype: float64"
      ]
     },
     "execution_count": 16,
     "metadata": {},
     "output_type": "execute_result"
    },
    {
     "data": {
      "image/png": "[encoded data removed]",
      "text/plain": [
       "<Figure size 432x288 with 1 Axes>"
      ]
     },
     "metadata": {
      "needs_background": "light"
     },
     "output_type": "display_data"
    }
   ],
   "source": [
    "dk.Medu.hist()\n",
    "dk.Medu.describe()"
   ]
  },
  {
   "cell_type": "code",
   "execution_count": 17,
   "metadata": {},
   "outputs": [
    {
     "data": {
      "text/plain": [
       "<matplotlib.axes._subplots.AxesSubplot at 0xc01e8e0>"
      ]
     },
     "execution_count": 17,
     "metadata": {},
     "output_type": "execute_result"
    },
    {
     "data": {
      "image/png": "[encoded data removed]",
      "text/plain": [
       "<Figure size 432x288 with 1 Axes>"
      ]
     },
     "metadata": {
      "needs_background": "light"
     },
     "output_type": "display_data"
    }
   ],
   "source": [
    "dk.Medu.plot(kind = 'box', grid = True)"
   ]
  },
  {
   "cell_type": "markdown",
   "metadata": {},
   "source": [
    "  На графиках видим распределение качества образования матерей студентов. Порядка 33% имеют высшее образование, 24% имеют среднее специальное или 11 классов, около 26% окончили от 5 до 9 классов. Остальные либо не имеют образования либо отучились немного. Выбросов нет. \n",
    "  Отсутсвующие значения (менее процента) заполним значением медианы."
   ]
  },
  {
   "cell_type": "code",
   "execution_count": 18,
   "metadata": {},
   "outputs": [],
   "source": [
    "dk.Medu.fillna(dk.Medu.median(), inplace = True)"
   ]
  },
  {
   "cell_type": "code",
   "execution_count": 19,
   "metadata": {},
   "outputs": [
    {
     "name": "stdout",
     "output_type": "stream",
     "text": [
      "<class 'pandas.core.frame.DataFrame'>\n",
      "Int64Index: 394 entries, 0 to 394\n",
      "Data columns (total 30 columns):\n",
      " #   Column      Non-Null Count  Dtype  \n",
      "---  ------      --------------  -----  \n",
      " 0   school      394 non-null    object \n",
      " 1   sex         394 non-null    object \n",
      " 2   age         394 non-null    int64  \n",
      " 3   address     394 non-null    object \n",
      " 4   famsize     394 non-null    object \n",
      " 5   Pstatus     394 non-null    object \n",
      " 6   Medu        394 non-null    float64\n",
      " 7   Fedu        370 non-null    float64\n",
      " 8   Mjob        375 non-null    object \n",
      " 9   Fjob        358 non-null    object \n",
      " 10  reason      377 non-null    object \n",
      " 11  guardian    363 non-null    object \n",
      " 12  traveltime  366 non-null    float64\n",
      " 13  studytime   387 non-null    float64\n",
      " 14  failures    372 non-null    float64\n",
      " 15  schoolsup   385 non-null    object \n",
      " 16  famsup      355 non-null    object \n",
      " 17  paid        354 non-null    object \n",
      " 18  activities  380 non-null    object \n",
      " 19  nursery     378 non-null    object \n",
      " 20  st_gran     387 non-null    float64\n",
      " 21  higher      374 non-null    object \n",
      " 22  internet    360 non-null    object \n",
      " 23  romantic    363 non-null    object \n",
      " 24  famrel      367 non-null    float64\n",
      " 25  freetime    383 non-null    float64\n",
      " 26  goout       386 non-null    float64\n",
      " 27  health      379 non-null    float64\n",
      " 28  absences    382 non-null    float64\n",
      " 29  score       388 non-null    float64\n",
      "dtypes: float64(12), int64(1), object(17)\n",
      "memory usage: 95.4+ KB\n"
     ]
    }
   ],
   "source": [
    "dk.info()"
   ]
  },
  {
   "cell_type": "markdown",
   "metadata": {},
   "source": [
    "## Колонка Fedu"
   ]
  },
  {
   "cell_type": "code",
   "execution_count": 20,
   "metadata": {},
   "outputs": [
    {
     "data": {
      "text/plain": [
       "count    370.000000\n",
       "mean       2.618919\n",
       "std        2.230163\n",
       "min        0.000000\n",
       "25%        2.000000\n",
       "50%        2.500000\n",
       "75%        3.000000\n",
       "max       40.000000\n",
       "Name: Fedu, dtype: float64"
      ]
     },
     "execution_count": 20,
     "metadata": {},
     "output_type": "execute_result"
    },
    {
     "data": {
      "image/png": "[encoded data removed]",
      "text/plain": [
       "<Figure size 432x288 with 1 Axes>"
      ]
     },
     "metadata": {
      "needs_background": "light"
     },
     "output_type": "display_data"
    }
   ],
   "source": [
    "dk.Fedu.hist()\n",
    "dk.Fedu.describe()"
   ]
  },
  {
   "cell_type": "code",
   "execution_count": 21,
   "metadata": {},
   "outputs": [
    {
     "data": {
      "text/plain": [
       "<matplotlib.axes._subplots.AxesSubplot at 0xc122100>"
      ]
     },
     "execution_count": 21,
     "metadata": {},
     "output_type": "execute_result"
    },
    {
     "data": {
      "image/png": "[encoded data removed]",
      "text/plain": [
       "<Figure size 432x288 with 1 Axes>"
      ]
     },
     "metadata": {
      "needs_background": "light"
     },
     "output_type": "display_data"
    }
   ],
   "source": [
    "dk.Fedu.plot(kind = 'box', grid = True)"
   ]
  },
  {
   "cell_type": "markdown",
   "metadata": {},
   "source": [
    "Значение 40 явная ошибка. Убираем и смотрим на распределение снова. Значение \"0\" пока не трогаем"
   ]
  },
  {
   "cell_type": "code",
   "execution_count": 22,
   "metadata": {},
   "outputs": [],
   "source": [
    "dk = dk[(dk.Fedu != 40)]"
   ]
  },
  {
   "cell_type": "code",
   "execution_count": 23,
   "metadata": {},
   "outputs": [
    {
     "data": {
      "text/plain": [
       "count    369.000000\n",
       "mean       2.517615\n",
       "std        1.086147\n",
       "min        0.000000\n",
       "25%        2.000000\n",
       "50%        2.000000\n",
       "75%        3.000000\n",
       "max        4.000000\n",
       "Name: Fedu, dtype: float64"
      ]
     },
     "execution_count": 23,
     "metadata": {},
     "output_type": "execute_result"
    },
    {
     "data": {
      "image/png": "[encoded data removed]",
      "text/plain": [
       "<Figure size 432x288 with 1 Axes>"
      ]
     },
     "metadata": {
      "needs_background": "light"
     },
     "output_type": "display_data"
    }
   ],
   "source": [
    "dk.Fedu.hist()\n",
    "dk.Fedu.describe()"
   ]
  },
  {
   "cell_type": "code",
   "execution_count": 24,
   "metadata": {},
   "outputs": [
    {
     "data": {
      "text/plain": [
       "<matplotlib.axes._subplots.AxesSubplot at 0xc1f6b50>"
      ]
     },
     "execution_count": 24,
     "metadata": {},
     "output_type": "execute_result"
    },
    {
     "data": {
      "image/png": "[encoded data removed]",
      "text/plain": [
       "<Figure size 432x288 with 1 Axes>"
      ]
     },
     "metadata": {
      "needs_background": "light"
     },
     "output_type": "display_data"
    }
   ],
   "source": [
    "dk.Fedu.plot(kind = 'box', grid = True)"
   ]
  },
  {
   "cell_type": "markdown",
   "metadata": {},
   "source": [
    "А мамаши-то пообразованнее будут. Отцов без образования исключаем как выбросы. Как поступить с NaN не представляю. Отсутствует порядка 6%. Надо взять среднее и округлить до трех или взять медиану? Пожалуй просто заменю на no_data"
   ]
  },
  {
   "cell_type": "code",
   "execution_count": 25,
   "metadata": {},
   "outputs": [],
   "source": [
    "dk = dk[(dk.Fedu > 0)]\n",
    "dk.Fedu.fillna('no_data', inplace = True)"
   ]
  },
  {
   "cell_type": "code",
   "execution_count": 26,
   "metadata": {},
   "outputs": [
    {
     "name": "stdout",
     "output_type": "stream",
     "text": [
      "<class 'pandas.core.frame.DataFrame'>\n",
      "Int64Index: 367 entries, 0 to 394\n",
      "Data columns (total 30 columns):\n",
      " #   Column      Non-Null Count  Dtype  \n",
      "---  ------      --------------  -----  \n",
      " 0   school      367 non-null    object \n",
      " 1   sex         367 non-null    object \n",
      " 2   age         367 non-null    int64  \n",
      " 3   address     367 non-null    object \n",
      " 4   famsize     367 non-null    object \n",
      " 5   Pstatus     367 non-null    object \n",
      " 6   Medu        367 non-null    float64\n",
      " 7   Fedu        367 non-null    float64\n",
      " 8   Mjob        348 non-null    object \n",
      " 9   Fjob        333 non-null    object \n",
      " 10  reason      351 non-null    object \n",
      " 11  guardian    337 non-null    object \n",
      " 12  traveltime  342 non-null    float64\n",
      " 13  studytime   360 non-null    float64\n",
      " 14  failures    349 non-null    float64\n",
      " 15  schoolsup   358 non-null    object \n",
      " 16  famsup      332 non-null    object \n",
      " 17  paid        330 non-null    object \n",
      " 18  activities  353 non-null    object \n",
      " 19  nursery     351 non-null    object \n",
      " 20  st_gran     360 non-null    float64\n",
      " 21  higher      351 non-null    object \n",
      " 22  internet    334 non-null    object \n",
      " 23  romantic    339 non-null    object \n",
      " 24  famrel      343 non-null    float64\n",
      " 25  freetime    358 non-null    float64\n",
      " 26  goout       359 non-null    float64\n",
      " 27  health      354 non-null    float64\n",
      " 28  absences    355 non-null    float64\n",
      " 29  score       361 non-null    float64\n",
      "dtypes: float64(12), int64(1), object(17)\n",
      "memory usage: 88.9+ KB\n"
     ]
    }
   ],
   "source": [
    "dk.info()"
   ]
  },
  {
   "cell_type": "markdown",
   "metadata": {},
   "source": [
    "## Колонка Mjob\n"
   ]
  },
  {
   "cell_type": "code",
   "execution_count": 27,
   "metadata": {},
   "outputs": [
    {
     "data": {
      "text/html": [
       "<div>\n",
       "<style scoped>\n",
       "    .dataframe tbody tr th:only-of-type {\n",
       "        vertical-align: middle;\n",
       "    }\n",
       "\n",
       "    .dataframe tbody tr th {\n",
       "        vertical-align: top;\n",
       "    }\n",
       "\n",
       "    .dataframe thead th {\n",
       "        text-align: right;\n",
       "    }\n",
       "</style>\n",
       "<table border=\"1\" class=\"dataframe\">\n",
       "  <thead>\n",
       "    <tr style=\"text-align: right;\">\n",
       "      <th></th>\n",
       "      <th>Mjob</th>\n",
       "    </tr>\n",
       "  </thead>\n",
       "  <tbody>\n",
       "    <tr>\n",
       "      <th>other</th>\n",
       "      <td>124</td>\n",
       "    </tr>\n",
       "    <tr>\n",
       "      <th>services</th>\n",
       "      <td>89</td>\n",
       "    </tr>\n",
       "    <tr>\n",
       "      <th>at_home</th>\n",
       "      <td>57</td>\n",
       "    </tr>\n",
       "    <tr>\n",
       "      <th>teacher</th>\n",
       "      <td>47</td>\n",
       "    </tr>\n",
       "    <tr>\n",
       "      <th>health</th>\n",
       "      <td>31</td>\n",
       "    </tr>\n",
       "  </tbody>\n",
       "</table>\n",
       "</div>"
      ],
      "text/plain": [
       "          Mjob\n",
       "other      124\n",
       "services    89\n",
       "at_home     57\n",
       "teacher     47\n",
       "health      31"
      ]
     },
     "execution_count": 27,
     "metadata": {},
     "output_type": "execute_result"
    }
   ],
   "source": [
    "pd.DataFrame(dk.Mjob.value_counts())"
   ]
  },
  {
   "cell_type": "markdown",
   "metadata": {},
   "source": [
    "Интересно что скрывается за other. Думаю что не ошибусь добавив 5% NaN в other"
   ]
  },
  {
   "cell_type": "code",
   "execution_count": 28,
   "metadata": {},
   "outputs": [],
   "source": [
    "dk.Mjob.fillna('other', inplace = True)"
   ]
  },
  {
   "cell_type": "markdown",
   "metadata": {},
   "source": [
    "## Колонка Fjob"
   ]
  },
  {
   "cell_type": "code",
   "execution_count": 29,
   "metadata": {},
   "outputs": [
    {
     "data": {
      "text/html": [
       "<div>\n",
       "<style scoped>\n",
       "    .dataframe tbody tr th:only-of-type {\n",
       "        vertical-align: middle;\n",
       "    }\n",
       "\n",
       "    .dataframe tbody tr th {\n",
       "        vertical-align: top;\n",
       "    }\n",
       "\n",
       "    .dataframe thead th {\n",
       "        text-align: right;\n",
       "    }\n",
       "</style>\n",
       "<table border=\"1\" class=\"dataframe\">\n",
       "  <thead>\n",
       "    <tr style=\"text-align: right;\">\n",
       "      <th></th>\n",
       "      <th>Fjob</th>\n",
       "    </tr>\n",
       "  </thead>\n",
       "  <tbody>\n",
       "    <tr>\n",
       "      <th>other</th>\n",
       "      <td>187</td>\n",
       "    </tr>\n",
       "    <tr>\n",
       "      <th>services</th>\n",
       "      <td>93</td>\n",
       "    </tr>\n",
       "    <tr>\n",
       "      <th>teacher</th>\n",
       "      <td>26</td>\n",
       "    </tr>\n",
       "    <tr>\n",
       "      <th>at_home</th>\n",
       "      <td>14</td>\n",
       "    </tr>\n",
       "    <tr>\n",
       "      <th>health</th>\n",
       "      <td>13</td>\n",
       "    </tr>\n",
       "  </tbody>\n",
       "</table>\n",
       "</div>"
      ],
      "text/plain": [
       "          Fjob\n",
       "other      187\n",
       "services    93\n",
       "teacher     26\n",
       "at_home     14\n",
       "health      13"
      ]
     },
     "execution_count": 29,
     "metadata": {},
     "output_type": "execute_result"
    }
   ],
   "source": [
    "pd.DataFrame(dk.Fjob.value_counts())"
   ]
  },
  {
   "cell_type": "markdown",
   "metadata": {},
   "source": [
    "Аналогично предыдущей колонке заменим NaN на Other (NaN - 9%, но отрыв other от services двукратный, поэтому замена обоснована)"
   ]
  },
  {
   "cell_type": "code",
   "execution_count": 30,
   "metadata": {},
   "outputs": [],
   "source": [
    "dk.Fjob.fillna('other', inplace = True)"
   ]
  },
  {
   "cell_type": "markdown",
   "metadata": {},
   "source": [
    "## Колонка reason"
   ]
  },
  {
   "cell_type": "code",
   "execution_count": 31,
   "metadata": {},
   "outputs": [
    {
     "data": {
      "text/html": [
       "<div>\n",
       "<style scoped>\n",
       "    .dataframe tbody tr th:only-of-type {\n",
       "        vertical-align: middle;\n",
       "    }\n",
       "\n",
       "    .dataframe tbody tr th {\n",
       "        vertical-align: top;\n",
       "    }\n",
       "\n",
       "    .dataframe thead th {\n",
       "        text-align: right;\n",
       "    }\n",
       "</style>\n",
       "<table border=\"1\" class=\"dataframe\">\n",
       "  <thead>\n",
       "    <tr style=\"text-align: right;\">\n",
       "      <th></th>\n",
       "      <th>reason</th>\n",
       "    </tr>\n",
       "  </thead>\n",
       "  <tbody>\n",
       "    <tr>\n",
       "      <th>course</th>\n",
       "      <td>127</td>\n",
       "    </tr>\n",
       "    <tr>\n",
       "      <th>reputation</th>\n",
       "      <td>97</td>\n",
       "    </tr>\n",
       "    <tr>\n",
       "      <th>home</th>\n",
       "      <td>96</td>\n",
       "    </tr>\n",
       "    <tr>\n",
       "      <th>other</th>\n",
       "      <td>31</td>\n",
       "    </tr>\n",
       "  </tbody>\n",
       "</table>\n",
       "</div>"
      ],
      "text/plain": [
       "            reason\n",
       "course         127\n",
       "reputation      97\n",
       "home            96\n",
       "other           31"
      ]
     },
     "execution_count": 31,
     "metadata": {},
     "output_type": "execute_result"
    }
   ],
   "source": [
    "pd.DataFrame(dk.reason.value_counts())"
   ]
  },
  {
   "cell_type": "markdown",
   "metadata": {},
   "source": [
    "NaN - 4%. Присвоим им значение course"
   ]
  },
  {
   "cell_type": "code",
   "execution_count": 32,
   "metadata": {},
   "outputs": [],
   "source": [
    "dk.reason.fillna('other', inplace = True)"
   ]
  },
  {
   "cell_type": "markdown",
   "metadata": {},
   "source": [
    "## Колонка guardian"
   ]
  },
  {
   "cell_type": "code",
   "execution_count": 33,
   "metadata": {},
   "outputs": [
    {
     "data": {
      "text/html": [
       "<div>\n",
       "<style scoped>\n",
       "    .dataframe tbody tr th:only-of-type {\n",
       "        vertical-align: middle;\n",
       "    }\n",
       "\n",
       "    .dataframe tbody tr th {\n",
       "        vertical-align: top;\n",
       "    }\n",
       "\n",
       "    .dataframe thead th {\n",
       "        text-align: right;\n",
       "    }\n",
       "</style>\n",
       "<table border=\"1\" class=\"dataframe\">\n",
       "  <thead>\n",
       "    <tr style=\"text-align: right;\">\n",
       "      <th></th>\n",
       "      <th>guardian</th>\n",
       "    </tr>\n",
       "  </thead>\n",
       "  <tbody>\n",
       "    <tr>\n",
       "      <th>mother</th>\n",
       "      <td>233</td>\n",
       "    </tr>\n",
       "    <tr>\n",
       "      <th>father</th>\n",
       "      <td>78</td>\n",
       "    </tr>\n",
       "    <tr>\n",
       "      <th>other</th>\n",
       "      <td>26</td>\n",
       "    </tr>\n",
       "  </tbody>\n",
       "</table>\n",
       "</div>"
      ],
      "text/plain": [
       "        guardian\n",
       "mother       233\n",
       "father        78\n",
       "other         26"
      ]
     },
     "execution_count": 33,
     "metadata": {},
     "output_type": "execute_result"
    }
   ],
   "source": [
    "pd.DataFrame(dk.guardian.value_counts())"
   ]
  },
  {
   "cell_type": "markdown",
   "metadata": {},
   "source": [
    "Не понимаю что такое опекун. Если в семье и отец и мать, а таких почти 80%, как мы выяснили выше, то почему опекун один? В любом случае 9% NaN заменим значением mother"
   ]
  },
  {
   "cell_type": "code",
   "execution_count": 34,
   "metadata": {},
   "outputs": [],
   "source": [
    "dk.guardian.fillna('mother', inplace = True)"
   ]
  },
  {
   "cell_type": "markdown",
   "metadata": {},
   "source": [
    "## Колонка traveltime"
   ]
  },
  {
   "cell_type": "code",
   "execution_count": 35,
   "metadata": {},
   "outputs": [
    {
     "data": {
      "text/plain": [
       "count    342.000000\n",
       "mean       1.447368\n",
       "std        0.703057\n",
       "min        1.000000\n",
       "25%        1.000000\n",
       "50%        1.000000\n",
       "75%        2.000000\n",
       "max        4.000000\n",
       "Name: traveltime, dtype: float64"
      ]
     },
     "execution_count": 35,
     "metadata": {},
     "output_type": "execute_result"
    },
    {
     "data": {
      "image/png": "[encoded data removed]",
      "text/plain": [
       "<Figure size 432x288 with 1 Axes>"
      ]
     },
     "metadata": {
      "needs_background": "light"
     },
     "output_type": "display_data"
    }
   ],
   "source": [
    "dk.traveltime.hist()\n",
    "dk.traveltime.describe()"
   ]
  },
  {
   "cell_type": "code",
   "execution_count": 36,
   "metadata": {},
   "outputs": [
    {
     "data": {
      "text/plain": [
       "<matplotlib.axes._subplots.AxesSubplot at 0xc2dac40>"
      ]
     },
     "execution_count": 36,
     "metadata": {},
     "output_type": "execute_result"
    },
    {
     "data": {
      "image/png": "[encoded data removed]",
      "text/plain": [
       "<Figure size 432x288 with 1 Axes>"
      ]
     },
     "metadata": {
      "needs_background": "light"
     },
     "output_type": "display_data"
    }
   ],
   "source": [
    "dk.traveltime.plot(kind = 'box', grid = True)"
   ]
  },
  {
   "cell_type": "markdown",
   "metadata": {},
   "source": [
    "Студенты добирающиеся до школы больше часа (значение 4) в данном случае являются выбросом"
   ]
  },
  {
   "cell_type": "code",
   "execution_count": 37,
   "metadata": {},
   "outputs": [],
   "source": [
    "dk = dk[(dk.traveltime != 4)]"
   ]
  },
  {
   "cell_type": "markdown",
   "metadata": {},
   "source": [
    "7% NaN заменим самым частым значением равным единице"
   ]
  },
  {
   "cell_type": "code",
   "execution_count": 38,
   "metadata": {},
   "outputs": [],
   "source": [
    "dk.traveltime.fillna(1.0, inplace = True)"
   ]
  },
  {
   "cell_type": "code",
   "execution_count": 39,
   "metadata": {},
   "outputs": [
    {
     "name": "stdout",
     "output_type": "stream",
     "text": [
      "<class 'pandas.core.frame.DataFrame'>\n",
      "Int64Index: 360 entries, 0 to 394\n",
      "Data columns (total 30 columns):\n",
      " #   Column      Non-Null Count  Dtype  \n",
      "---  ------      --------------  -----  \n",
      " 0   school      360 non-null    object \n",
      " 1   sex         360 non-null    object \n",
      " 2   age         360 non-null    int64  \n",
      " 3   address     360 non-null    object \n",
      " 4   famsize     360 non-null    object \n",
      " 5   Pstatus     360 non-null    object \n",
      " 6   Medu        360 non-null    float64\n",
      " 7   Fedu        360 non-null    float64\n",
      " 8   Mjob        360 non-null    object \n",
      " 9   Fjob        360 non-null    object \n",
      " 10  reason      360 non-null    object \n",
      " 11  guardian    360 non-null    object \n",
      " 12  traveltime  360 non-null    float64\n",
      " 13  studytime   353 non-null    float64\n",
      " 14  failures    343 non-null    float64\n",
      " 15  schoolsup   351 non-null    object \n",
      " 16  famsup      328 non-null    object \n",
      " 17  paid        324 non-null    object \n",
      " 18  activities  346 non-null    object \n",
      " 19  nursery     344 non-null    object \n",
      " 20  st_gran     353 non-null    float64\n",
      " 21  higher      345 non-null    object \n",
      " 22  internet    327 non-null    object \n",
      " 23  romantic    332 non-null    object \n",
      " 24  famrel      336 non-null    float64\n",
      " 25  freetime    351 non-null    float64\n",
      " 26  goout       352 non-null    float64\n",
      " 27  health      348 non-null    float64\n",
      " 28  absences    348 non-null    float64\n",
      " 29  score       354 non-null    float64\n",
      "dtypes: float64(12), int64(1), object(17)\n",
      "memory usage: 87.2+ KB\n"
     ]
    }
   ],
   "source": [
    "dk.info()"
   ]
  },
  {
   "cell_type": "markdown",
   "metadata": {},
   "source": [
    "## Колонка studytime"
   ]
  },
  {
   "cell_type": "code",
   "execution_count": 40,
   "metadata": {},
   "outputs": [
    {
     "data": {
      "text/plain": [
       "count    353.000000\n",
       "mean       2.025496\n",
       "std        0.830475\n",
       "min        1.000000\n",
       "25%        1.000000\n",
       "50%        2.000000\n",
       "75%        2.000000\n",
       "max        4.000000\n",
       "Name: studytime, dtype: float64"
      ]
     },
     "execution_count": 40,
     "metadata": {},
     "output_type": "execute_result"
    },
    {
     "data": {
      "image/png": "[encoded data removed]",
      "text/plain": [
       "<Figure size 432x288 with 1 Axes>"
      ]
     },
     "metadata": {
      "needs_background": "light"
     },
     "output_type": "display_data"
    }
   ],
   "source": [
    "dk.studytime.hist()\n",
    "dk.studytime.describe()"
   ]
  },
  {
   "cell_type": "code",
   "execution_count": 41,
   "metadata": {},
   "outputs": [
    {
     "data": {
      "text/plain": [
       "<matplotlib.axes._subplots.AxesSubplot at 0xc271610>"
      ]
     },
     "execution_count": 41,
     "metadata": {},
     "output_type": "execute_result"
    },
    {
     "data": {
      "image/png": "[encoded data removed]",
      "text/plain": [
       "<Figure size 432x288 with 1 Axes>"
      ]
     },
     "metadata": {
      "needs_background": "light"
     },
     "output_type": "display_data"
    }
   ],
   "source": [
    "dk.studytime.plot(kind = 'box', grid = True)"
   ]
  },
  {
   "cell_type": "markdown",
   "metadata": {},
   "source": [
    " Студентов занимающихся более 10 часов в неделю (значение 4) 23 человека и хотя формально это выброс, исключать это значение не будем, т.к. это целых 6% оставшейся выборки. Пустые значения (2%) заполним медианой (она близка к средней)"
   ]
  },
  {
   "cell_type": "code",
   "execution_count": 42,
   "metadata": {},
   "outputs": [],
   "source": [
    "dk.studytime.fillna(2.0, inplace = True)"
   ]
  },
  {
   "cell_type": "code",
   "execution_count": 43,
   "metadata": {},
   "outputs": [
    {
     "name": "stdout",
     "output_type": "stream",
     "text": [
      "<class 'pandas.core.frame.DataFrame'>\n",
      "Int64Index: 360 entries, 0 to 394\n",
      "Data columns (total 30 columns):\n",
      " #   Column      Non-Null Count  Dtype  \n",
      "---  ------      --------------  -----  \n",
      " 0   school      360 non-null    object \n",
      " 1   sex         360 non-null    object \n",
      " 2   age         360 non-null    int64  \n",
      " 3   address     360 non-null    object \n",
      " 4   famsize     360 non-null    object \n",
      " 5   Pstatus     360 non-null    object \n",
      " 6   Medu        360 non-null    float64\n",
      " 7   Fedu        360 non-null    float64\n",
      " 8   Mjob        360 non-null    object \n",
      " 9   Fjob        360 non-null    object \n",
      " 10  reason      360 non-null    object \n",
      " 11  guardian    360 non-null    object \n",
      " 12  traveltime  360 non-null    float64\n",
      " 13  studytime   360 non-null    float64\n",
      " 14  failures    343 non-null    float64\n",
      " 15  schoolsup   351 non-null    object \n",
      " 16  famsup      328 non-null    object \n",
      " 17  paid        324 non-null    object \n",
      " 18  activities  346 non-null    object \n",
      " 19  nursery     344 non-null    object \n",
      " 20  st_gran     353 non-null    float64\n",
      " 21  higher      345 non-null    object \n",
      " 22  internet    327 non-null    object \n",
      " 23  romantic    332 non-null    object \n",
      " 24  famrel      336 non-null    float64\n",
      " 25  freetime    351 non-null    float64\n",
      " 26  goout       352 non-null    float64\n",
      " 27  health      348 non-null    float64\n",
      " 28  absences    348 non-null    float64\n",
      " 29  score       354 non-null    float64\n",
      "dtypes: float64(12), int64(1), object(17)\n",
      "memory usage: 87.2+ KB\n"
     ]
    }
   ],
   "source": [
    "dk.info()"
   ]
  },
  {
   "cell_type": "markdown",
   "metadata": {},
   "source": [
    "## Колонка failures"
   ]
  },
  {
   "cell_type": "code",
   "execution_count": 44,
   "metadata": {},
   "outputs": [
    {
     "data": {
      "text/plain": [
       "count    343.000000\n",
       "mean       0.317784\n",
       "std        0.714023\n",
       "min        0.000000\n",
       "25%        0.000000\n",
       "50%        0.000000\n",
       "75%        0.000000\n",
       "max        3.000000\n",
       "Name: failures, dtype: float64"
      ]
     },
     "execution_count": 44,
     "metadata": {},
     "output_type": "execute_result"
    },
    {
     "data": {
      "image/png": "[encoded data removed]",
      "text/plain": [
       "<Figure size 432x288 with 1 Axes>"
      ]
     },
     "metadata": {
      "needs_background": "light"
     },
     "output_type": "display_data"
    }
   ],
   "source": [
    "dk.failures.hist()\n",
    "dk.failures.describe()"
   ]
  },
  {
   "cell_type": "code",
   "execution_count": 45,
   "metadata": {},
   "outputs": [
    {
     "data": {
      "text/plain": [
       "<matplotlib.axes._subplots.AxesSubplot at 0xc10bbb0>"
      ]
     },
     "execution_count": 45,
     "metadata": {},
     "output_type": "execute_result"
    },
    {
     "data": {
      "image/png": "[encoded data removed]",
      "text/plain": [
       "<Figure size 432x288 with 1 Axes>"
      ]
     },
     "metadata": {
      "needs_background": "light"
     },
     "output_type": "display_data"
    }
   ],
   "source": [
    "dk.failures.plot(kind = 'box', grid = True)"
   ]
  },
  {
   "cell_type": "markdown",
   "metadata": {},
   "source": [
    "Тут опять не знаю как поступить. Формально значения 1 2 и 3 являются выбросами. Очевидно что значение 1 исключать нельзя, остальные не знаю, оставлю все значения, хочется все таки узнать как внеучебные неудачи влияют на оценку. Надеюсь в комментарии к заданию вы напишете как правильно поступить в данном случае. \n",
    "Пустые значения заполним значением 0, т.к. абсолютное большинство после школы не испытывает неудач."
   ]
  },
  {
   "cell_type": "code",
   "execution_count": 46,
   "metadata": {},
   "outputs": [],
   "source": [
    "dk.failures.fillna(0.0, inplace = True)"
   ]
  },
  {
   "cell_type": "code",
   "execution_count": 47,
   "metadata": {},
   "outputs": [
    {
     "name": "stdout",
     "output_type": "stream",
     "text": [
      "<class 'pandas.core.frame.DataFrame'>\n",
      "Int64Index: 360 entries, 0 to 394\n",
      "Data columns (total 30 columns):\n",
      " #   Column      Non-Null Count  Dtype  \n",
      "---  ------      --------------  -----  \n",
      " 0   school      360 non-null    object \n",
      " 1   sex         360 non-null    object \n",
      " 2   age         360 non-null    int64  \n",
      " 3   address     360 non-null    object \n",
      " 4   famsize     360 non-null    object \n",
      " 5   Pstatus     360 non-null    object \n",
      " 6   Medu        360 non-null    float64\n",
      " 7   Fedu        360 non-null    float64\n",
      " 8   Mjob        360 non-null    object \n",
      " 9   Fjob        360 non-null    object \n",
      " 10  reason      360 non-null    object \n",
      " 11  guardian    360 non-null    object \n",
      " 12  traveltime  360 non-null    float64\n",
      " 13  studytime   360 non-null    float64\n",
      " 14  failures    360 non-null    float64\n",
      " 15  schoolsup   351 non-null    object \n",
      " 16  famsup      328 non-null    object \n",
      " 17  paid        324 non-null    object \n",
      " 18  activities  346 non-null    object \n",
      " 19  nursery     344 non-null    object \n",
      " 20  st_gran     353 non-null    float64\n",
      " 21  higher      345 non-null    object \n",
      " 22  internet    327 non-null    object \n",
      " 23  romantic    332 non-null    object \n",
      " 24  famrel      336 non-null    float64\n",
      " 25  freetime    351 non-null    float64\n",
      " 26  goout       352 non-null    float64\n",
      " 27  health      348 non-null    float64\n",
      " 28  absences    348 non-null    float64\n",
      " 29  score       354 non-null    float64\n",
      "dtypes: float64(12), int64(1), object(17)\n",
      "memory usage: 87.2+ KB\n"
     ]
    }
   ],
   "source": [
    "dk.info()"
   ]
  },
  {
   "cell_type": "markdown",
   "metadata": {},
   "source": [
    "## Колонка schoolsup"
   ]
  },
  {
   "cell_type": "code",
   "execution_count": 48,
   "metadata": {},
   "outputs": [
    {
     "data": {
      "text/html": [
       "<div>\n",
       "<style scoped>\n",
       "    .dataframe tbody tr th:only-of-type {\n",
       "        vertical-align: middle;\n",
       "    }\n",
       "\n",
       "    .dataframe tbody tr th {\n",
       "        vertical-align: top;\n",
       "    }\n",
       "\n",
       "    .dataframe thead th {\n",
       "        text-align: right;\n",
       "    }\n",
       "</style>\n",
       "<table border=\"1\" class=\"dataframe\">\n",
       "  <thead>\n",
       "    <tr style=\"text-align: right;\">\n",
       "      <th></th>\n",
       "      <th>schoolsup</th>\n",
       "    </tr>\n",
       "  </thead>\n",
       "  <tbody>\n",
       "    <tr>\n",
       "      <th>no</th>\n",
       "      <td>306</td>\n",
       "    </tr>\n",
       "    <tr>\n",
       "      <th>yes</th>\n",
       "      <td>45</td>\n",
       "    </tr>\n",
       "  </tbody>\n",
       "</table>\n",
       "</div>"
      ],
      "text/plain": [
       "     schoolsup\n",
       "no         306\n",
       "yes         45"
      ]
     },
     "execution_count": 48,
     "metadata": {},
     "output_type": "execute_result"
    }
   ],
   "source": [
    "pd.DataFrame(dk.schoolsup.value_counts())"
   ]
  },
  {
   "cell_type": "markdown",
   "metadata": {},
   "source": [
    "Подавляющее большинство не имеет дополнительной образовательной поддержки. 2.5% пустых значений отнесем к этой же группе студентов"
   ]
  },
  {
   "cell_type": "code",
   "execution_count": 49,
   "metadata": {},
   "outputs": [],
   "source": [
    "dk.schoolsup.fillna('no', inplace = True)"
   ]
  },
  {
   "cell_type": "code",
   "execution_count": 50,
   "metadata": {},
   "outputs": [
    {
     "name": "stdout",
     "output_type": "stream",
     "text": [
      "<class 'pandas.core.frame.DataFrame'>\n",
      "Int64Index: 360 entries, 0 to 394\n",
      "Data columns (total 30 columns):\n",
      " #   Column      Non-Null Count  Dtype  \n",
      "---  ------      --------------  -----  \n",
      " 0   school      360 non-null    object \n",
      " 1   sex         360 non-null    object \n",
      " 2   age         360 non-null    int64  \n",
      " 3   address     360 non-null    object \n",
      " 4   famsize     360 non-null    object \n",
      " 5   Pstatus     360 non-null    object \n",
      " 6   Medu        360 non-null    float64\n",
      " 7   Fedu        360 non-null    float64\n",
      " 8   Mjob        360 non-null    object \n",
      " 9   Fjob        360 non-null    object \n",
      " 10  reason      360 non-null    object \n",
      " 11  guardian    360 non-null    object \n",
      " 12  traveltime  360 non-null    float64\n",
      " 13  studytime   360 non-null    float64\n",
      " 14  failures    360 non-null    float64\n",
      " 15  schoolsup   360 non-null    object \n",
      " 16  famsup      328 non-null    object \n",
      " 17  paid        324 non-null    object \n",
      " 18  activities  346 non-null    object \n",
      " 19  nursery     344 non-null    object \n",
      " 20  st_gran     353 non-null    float64\n",
      " 21  higher      345 non-null    object \n",
      " 22  internet    327 non-null    object \n",
      " 23  romantic    332 non-null    object \n",
      " 24  famrel      336 non-null    float64\n",
      " 25  freetime    351 non-null    float64\n",
      " 26  goout       352 non-null    float64\n",
      " 27  health      348 non-null    float64\n",
      " 28  absences    348 non-null    float64\n",
      " 29  score       354 non-null    float64\n",
      "dtypes: float64(12), int64(1), object(17)\n",
      "memory usage: 87.2+ KB\n"
     ]
    }
   ],
   "source": [
    "dk.info()"
   ]
  },
  {
   "cell_type": "markdown",
   "metadata": {},
   "source": [
    "## Колонка famsup"
   ]
  },
  {
   "cell_type": "code",
   "execution_count": 51,
   "metadata": {},
   "outputs": [
    {
     "data": {
      "text/html": [
       "<div>\n",
       "<style scoped>\n",
       "    .dataframe tbody tr th:only-of-type {\n",
       "        vertical-align: middle;\n",
       "    }\n",
       "\n",
       "    .dataframe tbody tr th {\n",
       "        vertical-align: top;\n",
       "    }\n",
       "\n",
       "    .dataframe thead th {\n",
       "        text-align: right;\n",
       "    }\n",
       "</style>\n",
       "<table border=\"1\" class=\"dataframe\">\n",
       "  <thead>\n",
       "    <tr style=\"text-align: right;\">\n",
       "      <th></th>\n",
       "      <th>famsup</th>\n",
       "    </tr>\n",
       "  </thead>\n",
       "  <tbody>\n",
       "    <tr>\n",
       "      <th>yes</th>\n",
       "      <td>201</td>\n",
       "    </tr>\n",
       "    <tr>\n",
       "      <th>no</th>\n",
       "      <td>127</td>\n",
       "    </tr>\n",
       "  </tbody>\n",
       "</table>\n",
       "</div>"
      ],
      "text/plain": [
       "     famsup\n",
       "yes     201\n",
       "no      127"
      ]
     },
     "execution_count": 51,
     "metadata": {},
     "output_type": "execute_result"
    }
   ],
   "source": [
    "pd.DataFrame(dk.famsup.value_counts())"
   ]
  },
  {
   "cell_type": "markdown",
   "metadata": {},
   "source": [
    "Почти 9% пустых значений при соотношении 60:40 у имеющих и не имеющих семейную образовательную поддержку. Присвоим значение no_data всем пустым значениям."
   ]
  },
  {
   "cell_type": "code",
   "execution_count": 52,
   "metadata": {},
   "outputs": [],
   "source": [
    "dk.famsup.fillna('no_data', inplace = True)"
   ]
  },
  {
   "cell_type": "code",
   "execution_count": 53,
   "metadata": {},
   "outputs": [
    {
     "name": "stdout",
     "output_type": "stream",
     "text": [
      "<class 'pandas.core.frame.DataFrame'>\n",
      "Int64Index: 360 entries, 0 to 394\n",
      "Data columns (total 30 columns):\n",
      " #   Column      Non-Null Count  Dtype  \n",
      "---  ------      --------------  -----  \n",
      " 0   school      360 non-null    object \n",
      " 1   sex         360 non-null    object \n",
      " 2   age         360 non-null    int64  \n",
      " 3   address     360 non-null    object \n",
      " 4   famsize     360 non-null    object \n",
      " 5   Pstatus     360 non-null    object \n",
      " 6   Medu        360 non-null    float64\n",
      " 7   Fedu        360 non-null    float64\n",
      " 8   Mjob        360 non-null    object \n",
      " 9   Fjob        360 non-null    object \n",
      " 10  reason      360 non-null    object \n",
      " 11  guardian    360 non-null    object \n",
      " 12  traveltime  360 non-null    float64\n",
      " 13  studytime   360 non-null    float64\n",
      " 14  failures    360 non-null    float64\n",
      " 15  schoolsup   360 non-null    object \n",
      " 16  famsup      360 non-null    object \n",
      " 17  paid        324 non-null    object \n",
      " 18  activities  346 non-null    object \n",
      " 19  nursery     344 non-null    object \n",
      " 20  st_gran     353 non-null    float64\n",
      " 21  higher      345 non-null    object \n",
      " 22  internet    327 non-null    object \n",
      " 23  romantic    332 non-null    object \n",
      " 24  famrel      336 non-null    float64\n",
      " 25  freetime    351 non-null    float64\n",
      " 26  goout       352 non-null    float64\n",
      " 27  health      348 non-null    float64\n",
      " 28  absences    348 non-null    float64\n",
      " 29  score       354 non-null    float64\n",
      "dtypes: float64(12), int64(1), object(17)\n",
      "memory usage: 87.2+ KB\n"
     ]
    }
   ],
   "source": [
    "dk.info()"
   ]
  },
  {
   "cell_type": "markdown",
   "metadata": {},
   "source": [
    "## Колонка paid"
   ]
  },
  {
   "cell_type": "code",
   "execution_count": 54,
   "metadata": {},
   "outputs": [
    {
     "data": {
      "text/html": [
       "<div>\n",
       "<style scoped>\n",
       "    .dataframe tbody tr th:only-of-type {\n",
       "        vertical-align: middle;\n",
       "    }\n",
       "\n",
       "    .dataframe tbody tr th {\n",
       "        vertical-align: top;\n",
       "    }\n",
       "\n",
       "    .dataframe thead th {\n",
       "        text-align: right;\n",
       "    }\n",
       "</style>\n",
       "<table border=\"1\" class=\"dataframe\">\n",
       "  <thead>\n",
       "    <tr style=\"text-align: right;\">\n",
       "      <th></th>\n",
       "      <th>paid</th>\n",
       "    </tr>\n",
       "  </thead>\n",
       "  <tbody>\n",
       "    <tr>\n",
       "      <th>no</th>\n",
       "      <td>182</td>\n",
       "    </tr>\n",
       "    <tr>\n",
       "      <th>yes</th>\n",
       "      <td>142</td>\n",
       "    </tr>\n",
       "  </tbody>\n",
       "</table>\n",
       "</div>"
      ],
      "text/plain": [
       "     paid\n",
       "no    182\n",
       "yes   142"
      ]
     },
     "execution_count": 54,
     "metadata": {},
     "output_type": "execute_result"
    }
   ],
   "source": [
    "pd.DataFrame(dk.paid.value_counts())"
   ]
  },
  {
   "cell_type": "markdown",
   "metadata": {},
   "source": [
    "Ситуация аналогична предыдущей: 10% - NaN и близкие значения количества студентов посещавших платные уроки математики и не посещавших. Все NaN - no_data"
   ]
  },
  {
   "cell_type": "code",
   "execution_count": 55,
   "metadata": {},
   "outputs": [],
   "source": [
    "dk.paid.fillna('no_data', inplace = True)"
   ]
  },
  {
   "cell_type": "code",
   "execution_count": 56,
   "metadata": {},
   "outputs": [
    {
     "name": "stdout",
     "output_type": "stream",
     "text": [
      "<class 'pandas.core.frame.DataFrame'>\n",
      "Int64Index: 360 entries, 0 to 394\n",
      "Data columns (total 30 columns):\n",
      " #   Column      Non-Null Count  Dtype  \n",
      "---  ------      --------------  -----  \n",
      " 0   school      360 non-null    object \n",
      " 1   sex         360 non-null    object \n",
      " 2   age         360 non-null    int64  \n",
      " 3   address     360 non-null    object \n",
      " 4   famsize     360 non-null    object \n",
      " 5   Pstatus     360 non-null    object \n",
      " 6   Medu        360 non-null    float64\n",
      " 7   Fedu        360 non-null    float64\n",
      " 8   Mjob        360 non-null    object \n",
      " 9   Fjob        360 non-null    object \n",
      " 10  reason      360 non-null    object \n",
      " 11  guardian    360 non-null    object \n",
      " 12  traveltime  360 non-null    float64\n",
      " 13  studytime   360 non-null    float64\n",
      " 14  failures    360 non-null    float64\n",
      " 15  schoolsup   360 non-null    object \n",
      " 16  famsup      360 non-null    object \n",
      " 17  paid        360 non-null    object \n",
      " 18  activities  346 non-null    object \n",
      " 19  nursery     344 non-null    object \n",
      " 20  st_gran     353 non-null    float64\n",
      " 21  higher      345 non-null    object \n",
      " 22  internet    327 non-null    object \n",
      " 23  romantic    332 non-null    object \n",
      " 24  famrel      336 non-null    float64\n",
      " 25  freetime    351 non-null    float64\n",
      " 26  goout       352 non-null    float64\n",
      " 27  health      348 non-null    float64\n",
      " 28  absences    348 non-null    float64\n",
      " 29  score       354 non-null    float64\n",
      "dtypes: float64(12), int64(1), object(17)\n",
      "memory usage: 87.2+ KB\n"
     ]
    }
   ],
   "source": [
    "dk.info()"
   ]
  },
  {
   "cell_type": "markdown",
   "metadata": {},
   "source": [
    "## Колонка activities"
   ]
  },
  {
   "cell_type": "code",
   "execution_count": 57,
   "metadata": {},
   "outputs": [
    {
     "data": {
      "text/html": [
       "<div>\n",
       "<style scoped>\n",
       "    .dataframe tbody tr th:only-of-type {\n",
       "        vertical-align: middle;\n",
       "    }\n",
       "\n",
       "    .dataframe tbody tr th {\n",
       "        vertical-align: top;\n",
       "    }\n",
       "\n",
       "    .dataframe thead th {\n",
       "        text-align: right;\n",
       "    }\n",
       "</style>\n",
       "<table border=\"1\" class=\"dataframe\">\n",
       "  <thead>\n",
       "    <tr style=\"text-align: right;\">\n",
       "      <th></th>\n",
       "      <th>activities</th>\n",
       "    </tr>\n",
       "  </thead>\n",
       "  <tbody>\n",
       "    <tr>\n",
       "      <th>yes</th>\n",
       "      <td>174</td>\n",
       "    </tr>\n",
       "    <tr>\n",
       "      <th>no</th>\n",
       "      <td>172</td>\n",
       "    </tr>\n",
       "  </tbody>\n",
       "</table>\n",
       "</div>"
      ],
      "text/plain": [
       "     activities\n",
       "yes         174\n",
       "no          172"
      ]
     },
     "execution_count": 57,
     "metadata": {},
     "output_type": "execute_result"
    }
   ],
   "source": [
    "pd.DataFrame(dk.activities.value_counts())"
   ]
  },
  {
   "cell_type": "markdown",
   "metadata": {},
   "source": [
    "Ясно-понятно"
   ]
  },
  {
   "cell_type": "code",
   "execution_count": 58,
   "metadata": {},
   "outputs": [],
   "source": [
    "dk.activities.fillna('no_data', inplace = True)"
   ]
  },
  {
   "cell_type": "code",
   "execution_count": 59,
   "metadata": {},
   "outputs": [
    {
     "name": "stdout",
     "output_type": "stream",
     "text": [
      "<class 'pandas.core.frame.DataFrame'>\n",
      "Int64Index: 360 entries, 0 to 394\n",
      "Data columns (total 30 columns):\n",
      " #   Column      Non-Null Count  Dtype  \n",
      "---  ------      --------------  -----  \n",
      " 0   school      360 non-null    object \n",
      " 1   sex         360 non-null    object \n",
      " 2   age         360 non-null    int64  \n",
      " 3   address     360 non-null    object \n",
      " 4   famsize     360 non-null    object \n",
      " 5   Pstatus     360 non-null    object \n",
      " 6   Medu        360 non-null    float64\n",
      " 7   Fedu        360 non-null    float64\n",
      " 8   Mjob        360 non-null    object \n",
      " 9   Fjob        360 non-null    object \n",
      " 10  reason      360 non-null    object \n",
      " 11  guardian    360 non-null    object \n",
      " 12  traveltime  360 non-null    float64\n",
      " 13  studytime   360 non-null    float64\n",
      " 14  failures    360 non-null    float64\n",
      " 15  schoolsup   360 non-null    object \n",
      " 16  famsup      360 non-null    object \n",
      " 17  paid        360 non-null    object \n",
      " 18  activities  360 non-null    object \n",
      " 19  nursery     344 non-null    object \n",
      " 20  st_gran     353 non-null    float64\n",
      " 21  higher      345 non-null    object \n",
      " 22  internet    327 non-null    object \n",
      " 23  romantic    332 non-null    object \n",
      " 24  famrel      336 non-null    float64\n",
      " 25  freetime    351 non-null    float64\n",
      " 26  goout       352 non-null    float64\n",
      " 27  health      348 non-null    float64\n",
      " 28  absences    348 non-null    float64\n",
      " 29  score       354 non-null    float64\n",
      "dtypes: float64(12), int64(1), object(17)\n",
      "memory usage: 87.2+ KB\n"
     ]
    }
   ],
   "source": [
    "dk.info()"
   ]
  },
  {
   "cell_type": "markdown",
   "metadata": {},
   "source": [
    "## Колонка nursery"
   ]
  },
  {
   "cell_type": "code",
   "execution_count": 60,
   "metadata": {},
   "outputs": [
    {
     "data": {
      "text/html": [
       "<div>\n",
       "<style scoped>\n",
       "    .dataframe tbody tr th:only-of-type {\n",
       "        vertical-align: middle;\n",
       "    }\n",
       "\n",
       "    .dataframe tbody tr th {\n",
       "        vertical-align: top;\n",
       "    }\n",
       "\n",
       "    .dataframe thead th {\n",
       "        text-align: right;\n",
       "    }\n",
       "</style>\n",
       "<table border=\"1\" class=\"dataframe\">\n",
       "  <thead>\n",
       "    <tr style=\"text-align: right;\">\n",
       "      <th></th>\n",
       "      <th>nursery</th>\n",
       "    </tr>\n",
       "  </thead>\n",
       "  <tbody>\n",
       "    <tr>\n",
       "      <th>yes</th>\n",
       "      <td>271</td>\n",
       "    </tr>\n",
       "    <tr>\n",
       "      <th>no</th>\n",
       "      <td>73</td>\n",
       "    </tr>\n",
       "  </tbody>\n",
       "</table>\n",
       "</div>"
      ],
      "text/plain": [
       "     nursery\n",
       "yes      271\n",
       "no        73"
      ]
     },
     "execution_count": 60,
     "metadata": {},
     "output_type": "execute_result"
    }
   ],
   "source": [
    "pd.DataFrame(dk.nursery.value_counts())"
   ]
  },
  {
   "cell_type": "markdown",
   "metadata": {},
   "source": [
    "21% детишек не ходили в садик, а как же социализация. Возьмем на себя смелость предположить что 4% о которых мы не знаем все таки ходили в садик"
   ]
  },
  {
   "cell_type": "code",
   "execution_count": 61,
   "metadata": {},
   "outputs": [],
   "source": [
    "dk.nursery.fillna('yes', inplace = True)"
   ]
  },
  {
   "cell_type": "code",
   "execution_count": 62,
   "metadata": {},
   "outputs": [
    {
     "name": "stdout",
     "output_type": "stream",
     "text": [
      "<class 'pandas.core.frame.DataFrame'>\n",
      "Int64Index: 360 entries, 0 to 394\n",
      "Data columns (total 30 columns):\n",
      " #   Column      Non-Null Count  Dtype  \n",
      "---  ------      --------------  -----  \n",
      " 0   school      360 non-null    object \n",
      " 1   sex         360 non-null    object \n",
      " 2   age         360 non-null    int64  \n",
      " 3   address     360 non-null    object \n",
      " 4   famsize     360 non-null    object \n",
      " 5   Pstatus     360 non-null    object \n",
      " 6   Medu        360 non-null    float64\n",
      " 7   Fedu        360 non-null    float64\n",
      " 8   Mjob        360 non-null    object \n",
      " 9   Fjob        360 non-null    object \n",
      " 10  reason      360 non-null    object \n",
      " 11  guardian    360 non-null    object \n",
      " 12  traveltime  360 non-null    float64\n",
      " 13  studytime   360 non-null    float64\n",
      " 14  failures    360 non-null    float64\n",
      " 15  schoolsup   360 non-null    object \n",
      " 16  famsup      360 non-null    object \n",
      " 17  paid        360 non-null    object \n",
      " 18  activities  360 non-null    object \n",
      " 19  nursery     360 non-null    object \n",
      " 20  st_gran     353 non-null    float64\n",
      " 21  higher      345 non-null    object \n",
      " 22  internet    327 non-null    object \n",
      " 23  romantic    332 non-null    object \n",
      " 24  famrel      336 non-null    float64\n",
      " 25  freetime    351 non-null    float64\n",
      " 26  goout       352 non-null    float64\n",
      " 27  health      348 non-null    float64\n",
      " 28  absences    348 non-null    float64\n",
      " 29  score       354 non-null    float64\n",
      "dtypes: float64(12), int64(1), object(17)\n",
      "memory usage: 87.2+ KB\n"
     ]
    }
   ],
   "source": [
    "dk.info()"
   ]
  },
  {
   "cell_type": "markdown",
   "metadata": {},
   "source": [
    "## Колонка studytime, granular (st_gran) загадочная"
   ]
  },
  {
   "cell_type": "code",
   "execution_count": 63,
   "metadata": {},
   "outputs": [
    {
     "data": {
      "text/plain": [
       "count    353.000000\n",
       "mean      -6.076487\n",
       "std        2.491426\n",
       "min      -12.000000\n",
       "25%       -6.000000\n",
       "50%       -6.000000\n",
       "75%       -3.000000\n",
       "max       -3.000000\n",
       "Name: st_gran, dtype: float64"
      ]
     },
     "execution_count": 63,
     "metadata": {},
     "output_type": "execute_result"
    },
    {
     "data": {
      "image/png": "[encoded data removed]",
      "text/plain": [
       "<Figure size 432x288 with 1 Axes>"
      ]
     },
     "metadata": {
      "needs_background": "light"
     },
     "output_type": "display_data"
    }
   ],
   "source": [
    "dk.st_gran.hist()\n",
    "dk.st_gran.describe()"
   ]
  },
  {
   "cell_type": "code",
   "execution_count": 64,
   "metadata": {},
   "outputs": [
    {
     "data": {
      "text/plain": [
       "<matplotlib.axes._subplots.AxesSubplot at 0xc189af0>"
      ]
     },
     "execution_count": 64,
     "metadata": {},
     "output_type": "execute_result"
    },
    {
     "data": {
      "image/png": "[encoded data removed]",
      "text/plain": [
       "<Figure size 432x288 with 1 Axes>"
      ]
     },
     "metadata": {
      "needs_background": "light"
     },
     "output_type": "display_data"
    }
   ],
   "source": [
    "dk.st_gran.plot(kind = 'box', grid = True)"
   ]
  },
  {
   "cell_type": "markdown",
   "metadata": {},
   "source": [
    "Погуглил. Возможно это данные получены гранулярным методом анализа временной последовательности, навроде как соотносятся часы учебы по понедельникам, по вторникам и т.д. Или нет. В любом случае для анализа эту колонку использовать не будем."
   ]
  },
  {
   "cell_type": "code",
   "execution_count": 65,
   "metadata": {},
   "outputs": [],
   "source": [
    "dk.drop(['st_gran'], inplace = True, axis = 1)"
   ]
  },
  {
   "cell_type": "code",
   "execution_count": 66,
   "metadata": {},
   "outputs": [
    {
     "name": "stdout",
     "output_type": "stream",
     "text": [
      "<class 'pandas.core.frame.DataFrame'>\n",
      "Int64Index: 360 entries, 0 to 394\n",
      "Data columns (total 29 columns):\n",
      " #   Column      Non-Null Count  Dtype  \n",
      "---  ------      --------------  -----  \n",
      " 0   school      360 non-null    object \n",
      " 1   sex         360 non-null    object \n",
      " 2   age         360 non-null    int64  \n",
      " 3   address     360 non-null    object \n",
      " 4   famsize     360 non-null    object \n",
      " 5   Pstatus     360 non-null    object \n",
      " 6   Medu        360 non-null    float64\n",
      " 7   Fedu        360 non-null    float64\n",
      " 8   Mjob        360 non-null    object \n",
      " 9   Fjob        360 non-null    object \n",
      " 10  reason      360 non-null    object \n",
      " 11  guardian    360 non-null    object \n",
      " 12  traveltime  360 non-null    float64\n",
      " 13  studytime   360 non-null    float64\n",
      " 14  failures    360 non-null    float64\n",
      " 15  schoolsup   360 non-null    object \n",
      " 16  famsup      360 non-null    object \n",
      " 17  paid        360 non-null    object \n",
      " 18  activities  360 non-null    object \n",
      " 19  nursery     360 non-null    object \n",
      " 20  higher      345 non-null    object \n",
      " 21  internet    327 non-null    object \n",
      " 22  romantic    332 non-null    object \n",
      " 23  famrel      336 non-null    float64\n",
      " 24  freetime    351 non-null    float64\n",
      " 25  goout       352 non-null    float64\n",
      " 26  health      348 non-null    float64\n",
      " 27  absences    348 non-null    float64\n",
      " 28  score       354 non-null    float64\n",
      "dtypes: float64(11), int64(1), object(17)\n",
      "memory usage: 84.4+ KB\n"
     ]
    }
   ],
   "source": [
    "dk.info()"
   ]
  },
  {
   "cell_type": "markdown",
   "metadata": {},
   "source": [
    "## Колонка higher"
   ]
  },
  {
   "cell_type": "code",
   "execution_count": 67,
   "metadata": {},
   "outputs": [
    {
     "data": {
      "text/html": [
       "<div>\n",
       "<style scoped>\n",
       "    .dataframe tbody tr th:only-of-type {\n",
       "        vertical-align: middle;\n",
       "    }\n",
       "\n",
       "    .dataframe tbody tr th {\n",
       "        vertical-align: top;\n",
       "    }\n",
       "\n",
       "    .dataframe thead th {\n",
       "        text-align: right;\n",
       "    }\n",
       "</style>\n",
       "<table border=\"1\" class=\"dataframe\">\n",
       "  <thead>\n",
       "    <tr style=\"text-align: right;\">\n",
       "      <th></th>\n",
       "      <th>higher</th>\n",
       "    </tr>\n",
       "  </thead>\n",
       "  <tbody>\n",
       "    <tr>\n",
       "      <th>yes</th>\n",
       "      <td>328</td>\n",
       "    </tr>\n",
       "    <tr>\n",
       "      <th>no</th>\n",
       "      <td>17</td>\n",
       "    </tr>\n",
       "  </tbody>\n",
       "</table>\n",
       "</div>"
      ],
      "text/plain": [
       "     higher\n",
       "yes     328\n",
       "no       17"
      ]
     },
     "execution_count": 67,
     "metadata": {},
     "output_type": "execute_result"
    }
   ],
   "source": [
    "pd.DataFrame(dk.higher.value_counts())"
   ]
  },
  {
   "cell_type": "markdown",
   "metadata": {},
   "source": [
    "Все хотят быть образованными в Америке, ну кредит за учебу будут лет 10 отдавать. Отправим 15 человек без данных в желающих получить вышку"
   ]
  },
  {
   "cell_type": "code",
   "execution_count": 68,
   "metadata": {},
   "outputs": [],
   "source": [
    "dk.higher.fillna('yes', inplace = True)"
   ]
  },
  {
   "cell_type": "code",
   "execution_count": 69,
   "metadata": {},
   "outputs": [
    {
     "name": "stdout",
     "output_type": "stream",
     "text": [
      "<class 'pandas.core.frame.DataFrame'>\n",
      "Int64Index: 360 entries, 0 to 394\n",
      "Data columns (total 29 columns):\n",
      " #   Column      Non-Null Count  Dtype  \n",
      "---  ------      --------------  -----  \n",
      " 0   school      360 non-null    object \n",
      " 1   sex         360 non-null    object \n",
      " 2   age         360 non-null    int64  \n",
      " 3   address     360 non-null    object \n",
      " 4   famsize     360 non-null    object \n",
      " 5   Pstatus     360 non-null    object \n",
      " 6   Medu        360 non-null    float64\n",
      " 7   Fedu        360 non-null    float64\n",
      " 8   Mjob        360 non-null    object \n",
      " 9   Fjob        360 non-null    object \n",
      " 10  reason      360 non-null    object \n",
      " 11  guardian    360 non-null    object \n",
      " 12  traveltime  360 non-null    float64\n",
      " 13  studytime   360 non-null    float64\n",
      " 14  failures    360 non-null    float64\n",
      " 15  schoolsup   360 non-null    object \n",
      " 16  famsup      360 non-null    object \n",
      " 17  paid        360 non-null    object \n",
      " 18  activities  360 non-null    object \n",
      " 19  nursery     360 non-null    object \n",
      " 20  higher      360 non-null    object \n",
      " 21  internet    327 non-null    object \n",
      " 22  romantic    332 non-null    object \n",
      " 23  famrel      336 non-null    float64\n",
      " 24  freetime    351 non-null    float64\n",
      " 25  goout       352 non-null    float64\n",
      " 26  health      348 non-null    float64\n",
      " 27  absences    348 non-null    float64\n",
      " 28  score       354 non-null    float64\n",
      "dtypes: float64(11), int64(1), object(17)\n",
      "memory usage: 84.4+ KB\n"
     ]
    }
   ],
   "source": [
    "dk.info()"
   ]
  },
  {
   "cell_type": "markdown",
   "metadata": {},
   "source": [
    "## Колонка internet"
   ]
  },
  {
   "cell_type": "code",
   "execution_count": 70,
   "metadata": {},
   "outputs": [
    {
     "data": {
      "text/html": [
       "<div>\n",
       "<style scoped>\n",
       "    .dataframe tbody tr th:only-of-type {\n",
       "        vertical-align: middle;\n",
       "    }\n",
       "\n",
       "    .dataframe tbody tr th {\n",
       "        vertical-align: top;\n",
       "    }\n",
       "\n",
       "    .dataframe thead th {\n",
       "        text-align: right;\n",
       "    }\n",
       "</style>\n",
       "<table border=\"1\" class=\"dataframe\">\n",
       "  <thead>\n",
       "    <tr style=\"text-align: right;\">\n",
       "      <th></th>\n",
       "      <th>higher</th>\n",
       "    </tr>\n",
       "  </thead>\n",
       "  <tbody>\n",
       "    <tr>\n",
       "      <th>yes</th>\n",
       "      <td>343</td>\n",
       "    </tr>\n",
       "    <tr>\n",
       "      <th>no</th>\n",
       "      <td>17</td>\n",
       "    </tr>\n",
       "  </tbody>\n",
       "</table>\n",
       "</div>"
      ],
      "text/plain": [
       "     higher\n",
       "yes     343\n",
       "no       17"
      ]
     },
     "execution_count": 70,
     "metadata": {},
     "output_type": "execute_result"
    }
   ],
   "source": [
    "pd.DataFrame(dk.higher.value_counts())"
   ]
  },
  {
   "cell_type": "markdown",
   "metadata": {},
   "source": [
    "9% NaN, довольно много, но судя по распределению наверняка у подавляющей части есть интернет. Смело пишем их в пользователи всемирной паутины "
   ]
  },
  {
   "cell_type": "code",
   "execution_count": 71,
   "metadata": {},
   "outputs": [],
   "source": [
    "dk.internet.fillna('yes', inplace = True)"
   ]
  },
  {
   "cell_type": "code",
   "execution_count": 72,
   "metadata": {},
   "outputs": [
    {
     "name": "stdout",
     "output_type": "stream",
     "text": [
      "<class 'pandas.core.frame.DataFrame'>\n",
      "Int64Index: 360 entries, 0 to 394\n",
      "Data columns (total 29 columns):\n",
      " #   Column      Non-Null Count  Dtype  \n",
      "---  ------      --------------  -----  \n",
      " 0   school      360 non-null    object \n",
      " 1   sex         360 non-null    object \n",
      " 2   age         360 non-null    int64  \n",
      " 3   address     360 non-null    object \n",
      " 4   famsize     360 non-null    object \n",
      " 5   Pstatus     360 non-null    object \n",
      " 6   Medu        360 non-null    float64\n",
      " 7   Fedu        360 non-null    float64\n",
      " 8   Mjob        360 non-null    object \n",
      " 9   Fjob        360 non-null    object \n",
      " 10  reason      360 non-null    object \n",
      " 11  guardian    360 non-null    object \n",
      " 12  traveltime  360 non-null    float64\n",
      " 13  studytime   360 non-null    float64\n",
      " 14  failures    360 non-null    float64\n",
      " 15  schoolsup   360 non-null    object \n",
      " 16  famsup      360 non-null    object \n",
      " 17  paid        360 non-null    object \n",
      " 18  activities  360 non-null    object \n",
      " 19  nursery     360 non-null    object \n",
      " 20  higher      360 non-null    object \n",
      " 21  internet    360 non-null    object \n",
      " 22  romantic    332 non-null    object \n",
      " 23  famrel      336 non-null    float64\n",
      " 24  freetime    351 non-null    float64\n",
      " 25  goout       352 non-null    float64\n",
      " 26  health      348 non-null    float64\n",
      " 27  absences    348 non-null    float64\n",
      " 28  score       354 non-null    float64\n",
      "dtypes: float64(11), int64(1), object(17)\n",
      "memory usage: 84.4+ KB\n"
     ]
    }
   ],
   "source": [
    "dk.info()"
   ]
  },
  {
   "cell_type": "markdown",
   "metadata": {},
   "source": [
    "## Колонка romantic"
   ]
  },
  {
   "cell_type": "code",
   "execution_count": 73,
   "metadata": {},
   "outputs": [
    {
     "data": {
      "text/html": [
       "<div>\n",
       "<style scoped>\n",
       "    .dataframe tbody tr th:only-of-type {\n",
       "        vertical-align: middle;\n",
       "    }\n",
       "\n",
       "    .dataframe tbody tr th {\n",
       "        vertical-align: top;\n",
       "    }\n",
       "\n",
       "    .dataframe thead th {\n",
       "        text-align: right;\n",
       "    }\n",
       "</style>\n",
       "<table border=\"1\" class=\"dataframe\">\n",
       "  <thead>\n",
       "    <tr style=\"text-align: right;\">\n",
       "      <th></th>\n",
       "      <th>romantic</th>\n",
       "    </tr>\n",
       "  </thead>\n",
       "  <tbody>\n",
       "    <tr>\n",
       "      <th>no</th>\n",
       "      <td>222</td>\n",
       "    </tr>\n",
       "    <tr>\n",
       "      <th>yes</th>\n",
       "      <td>110</td>\n",
       "    </tr>\n",
       "  </tbody>\n",
       "</table>\n",
       "</div>"
      ],
      "text/plain": [
       "     romantic\n",
       "no        222\n",
       "yes       110"
      ]
     },
     "execution_count": 73,
     "metadata": {},
     "output_type": "execute_result"
    }
   ],
   "source": [
    "pd.DataFrame(dk.romantic.value_counts())"
   ]
  },
  {
   "cell_type": "markdown",
   "metadata": {},
   "source": [
    "Количество учащихся без отношений в два раза больше чем в отношениях. 8% наверное постеснялись сказать что одиноки, но мы все равно запишем их в большинство."
   ]
  },
  {
   "cell_type": "code",
   "execution_count": 74,
   "metadata": {},
   "outputs": [],
   "source": [
    "dk.romantic.fillna('no', inplace = True)"
   ]
  },
  {
   "cell_type": "code",
   "execution_count": 75,
   "metadata": {},
   "outputs": [
    {
     "name": "stdout",
     "output_type": "stream",
     "text": [
      "<class 'pandas.core.frame.DataFrame'>\n",
      "Int64Index: 360 entries, 0 to 394\n",
      "Data columns (total 29 columns):\n",
      " #   Column      Non-Null Count  Dtype  \n",
      "---  ------      --------------  -----  \n",
      " 0   school      360 non-null    object \n",
      " 1   sex         360 non-null    object \n",
      " 2   age         360 non-null    int64  \n",
      " 3   address     360 non-null    object \n",
      " 4   famsize     360 non-null    object \n",
      " 5   Pstatus     360 non-null    object \n",
      " 6   Medu        360 non-null    float64\n",
      " 7   Fedu        360 non-null    float64\n",
      " 8   Mjob        360 non-null    object \n",
      " 9   Fjob        360 non-null    object \n",
      " 10  reason      360 non-null    object \n",
      " 11  guardian    360 non-null    object \n",
      " 12  traveltime  360 non-null    float64\n",
      " 13  studytime   360 non-null    float64\n",
      " 14  failures    360 non-null    float64\n",
      " 15  schoolsup   360 non-null    object \n",
      " 16  famsup      360 non-null    object \n",
      " 17  paid        360 non-null    object \n",
      " 18  activities  360 non-null    object \n",
      " 19  nursery     360 non-null    object \n",
      " 20  higher      360 non-null    object \n",
      " 21  internet    360 non-null    object \n",
      " 22  romantic    360 non-null    object \n",
      " 23  famrel      336 non-null    float64\n",
      " 24  freetime    351 non-null    float64\n",
      " 25  goout       352 non-null    float64\n",
      " 26  health      348 non-null    float64\n",
      " 27  absences    348 non-null    float64\n",
      " 28  score       354 non-null    float64\n",
      "dtypes: float64(11), int64(1), object(17)\n",
      "memory usage: 84.4+ KB\n"
     ]
    }
   ],
   "source": [
    "dk.info()"
   ]
  },
  {
   "cell_type": "markdown",
   "metadata": {},
   "source": [
    "## Колонка famrel"
   ]
  },
  {
   "cell_type": "code",
   "execution_count": 76,
   "metadata": {},
   "outputs": [
    {
     "data": {
      "text/plain": [
       "count    336.000000\n",
       "mean       3.937500\n",
       "std        0.933118\n",
       "min       -1.000000\n",
       "25%        4.000000\n",
       "50%        4.000000\n",
       "75%        5.000000\n",
       "max        5.000000\n",
       "Name: famrel, dtype: float64"
      ]
     },
     "execution_count": 76,
     "metadata": {},
     "output_type": "execute_result"
    },
    {
     "data": {
      "image/png": "[encoded data removed]",
      "text/plain": [
       "<Figure size 432x288 with 1 Axes>"
      ]
     },
     "metadata": {
      "needs_background": "light"
     },
     "output_type": "display_data"
    }
   ],
   "source": [
    "dk.famrel.hist()\n",
    "dk.famrel.describe()"
   ]
  },
  {
   "cell_type": "code",
   "execution_count": 77,
   "metadata": {},
   "outputs": [
    {
     "data": {
      "text/plain": [
       "<matplotlib.axes._subplots.AxesSubplot at 0xc184250>"
      ]
     },
     "execution_count": 77,
     "metadata": {},
     "output_type": "execute_result"
    },
    {
     "data": {
      "image/png": "[encoded data removed]",
      "text/plain": [
       "<Figure size 432x288 with 1 Axes>"
      ]
     },
     "metadata": {
      "needs_background": "light"
     },
     "output_type": "display_data"
    }
   ],
   "source": [
    "dk.famrel.plot(kind = 'box', grid = True)"
   ]
  },
  {
   "cell_type": "markdown",
   "metadata": {},
   "source": [
    "Фэмили релейшеншип в основном хорошие, выбросами являются значения -1 (это бесспорно), 1 и 2. Значение 2 все же оставим, там  16 человек. Пустым ячейкам присвоим значение медианы (она примерно равна среднему значению)"
   ]
  },
  {
   "cell_type": "code",
   "execution_count": 78,
   "metadata": {},
   "outputs": [],
   "source": [
    "dk.famrel.fillna(4.0, inplace = True)\n",
    "dk = dk[(dk.famrel != -1.0) & (dk.famrel != 1.0)]"
   ]
  },
  {
   "cell_type": "code",
   "execution_count": 79,
   "metadata": {},
   "outputs": [
    {
     "name": "stdout",
     "output_type": "stream",
     "text": [
      "<class 'pandas.core.frame.DataFrame'>\n",
      "Int64Index: 353 entries, 0 to 394\n",
      "Data columns (total 29 columns):\n",
      " #   Column      Non-Null Count  Dtype  \n",
      "---  ------      --------------  -----  \n",
      " 0   school      353 non-null    object \n",
      " 1   sex         353 non-null    object \n",
      " 2   age         353 non-null    int64  \n",
      " 3   address     353 non-null    object \n",
      " 4   famsize     353 non-null    object \n",
      " 5   Pstatus     353 non-null    object \n",
      " 6   Medu        353 non-null    float64\n",
      " 7   Fedu        353 non-null    float64\n",
      " 8   Mjob        353 non-null    object \n",
      " 9   Fjob        353 non-null    object \n",
      " 10  reason      353 non-null    object \n",
      " 11  guardian    353 non-null    object \n",
      " 12  traveltime  353 non-null    float64\n",
      " 13  studytime   353 non-null    float64\n",
      " 14  failures    353 non-null    float64\n",
      " 15  schoolsup   353 non-null    object \n",
      " 16  famsup      353 non-null    object \n",
      " 17  paid        353 non-null    object \n",
      " 18  activities  353 non-null    object \n",
      " 19  nursery     353 non-null    object \n",
      " 20  higher      353 non-null    object \n",
      " 21  internet    353 non-null    object \n",
      " 22  romantic    353 non-null    object \n",
      " 23  famrel      353 non-null    float64\n",
      " 24  freetime    344 non-null    float64\n",
      " 25  goout       345 non-null    float64\n",
      " 26  health      341 non-null    float64\n",
      " 27  absences    341 non-null    float64\n",
      " 28  score       347 non-null    float64\n",
      "dtypes: float64(11), int64(1), object(17)\n",
      "memory usage: 82.7+ KB\n"
     ]
    }
   ],
   "source": [
    "dk.info()"
   ]
  },
  {
   "cell_type": "markdown",
   "metadata": {},
   "source": [
    "## Колонка freetime"
   ]
  },
  {
   "cell_type": "code",
   "execution_count": 80,
   "metadata": {},
   "outputs": [
    {
     "data": {
      "text/plain": [
       "count    344.000000\n",
       "mean       3.220930\n",
       "std        0.994459\n",
       "min        1.000000\n",
       "25%        3.000000\n",
       "50%        3.000000\n",
       "75%        4.000000\n",
       "max        5.000000\n",
       "Name: freetime, dtype: float64"
      ]
     },
     "execution_count": 80,
     "metadata": {},
     "output_type": "execute_result"
    },
    {
     "data": {
      "image/png": "[encoded data removed]",
      "text/plain": [
       "<Figure size 432x288 with 1 Axes>"
      ]
     },
     "metadata": {
      "needs_background": "light"
     },
     "output_type": "display_data"
    }
   ],
   "source": [
    "dk.freetime.hist()\n",
    "dk.freetime.describe()"
   ]
  },
  {
   "cell_type": "code",
   "execution_count": 81,
   "metadata": {},
   "outputs": [
    {
     "data": {
      "text/plain": [
       "<matplotlib.axes._subplots.AxesSubplot at 0xc4b6220>"
      ]
     },
     "execution_count": 81,
     "metadata": {},
     "output_type": "execute_result"
    },
    {
     "data": {
      "image/png": "[encoded data removed]",
      "text/plain": [
       "<Figure size 432x288 with 1 Axes>"
      ]
     },
     "metadata": {
      "needs_background": "light"
     },
     "output_type": "display_data"
    }
   ],
   "source": [
    "dk.freetime.plot(kind = 'box', grid = True)"
   ]
  },
  {
   "cell_type": "markdown",
   "metadata": {},
   "source": [
    "Опять в выбросе много значений, если бы я все исключал, осталось бы наверное уже половина датасета. Оставляю. Пустые значения (2.5%) заполняю значением медианы"
   ]
  },
  {
   "cell_type": "code",
   "execution_count": 82,
   "metadata": {},
   "outputs": [],
   "source": [
    "dk.freetime.fillna(3.0, inplace = True)"
   ]
  },
  {
   "cell_type": "code",
   "execution_count": 83,
   "metadata": {},
   "outputs": [
    {
     "name": "stdout",
     "output_type": "stream",
     "text": [
      "<class 'pandas.core.frame.DataFrame'>\n",
      "Int64Index: 353 entries, 0 to 394\n",
      "Data columns (total 29 columns):\n",
      " #   Column      Non-Null Count  Dtype  \n",
      "---  ------      --------------  -----  \n",
      " 0   school      353 non-null    object \n",
      " 1   sex         353 non-null    object \n",
      " 2   age         353 non-null    int64  \n",
      " 3   address     353 non-null    object \n",
      " 4   famsize     353 non-null    object \n",
      " 5   Pstatus     353 non-null    object \n",
      " 6   Medu        353 non-null    float64\n",
      " 7   Fedu        353 non-null    float64\n",
      " 8   Mjob        353 non-null    object \n",
      " 9   Fjob        353 non-null    object \n",
      " 10  reason      353 non-null    object \n",
      " 11  guardian    353 non-null    object \n",
      " 12  traveltime  353 non-null    float64\n",
      " 13  studytime   353 non-null    float64\n",
      " 14  failures    353 non-null    float64\n",
      " 15  schoolsup   353 non-null    object \n",
      " 16  famsup      353 non-null    object \n",
      " 17  paid        353 non-null    object \n",
      " 18  activities  353 non-null    object \n",
      " 19  nursery     353 non-null    object \n",
      " 20  higher      353 non-null    object \n",
      " 21  internet    353 non-null    object \n",
      " 22  romantic    353 non-null    object \n",
      " 23  famrel      353 non-null    float64\n",
      " 24  freetime    353 non-null    float64\n",
      " 25  goout       345 non-null    float64\n",
      " 26  health      341 non-null    float64\n",
      " 27  absences    341 non-null    float64\n",
      " 28  score       347 non-null    float64\n",
      "dtypes: float64(11), int64(1), object(17)\n",
      "memory usage: 82.7+ KB\n"
     ]
    }
   ],
   "source": [
    "dk.info()"
   ]
  },
  {
   "cell_type": "markdown",
   "metadata": {},
   "source": [
    "## Колонка goout"
   ]
  },
  {
   "cell_type": "code",
   "execution_count": 84,
   "metadata": {},
   "outputs": [
    {
     "data": {
      "text/plain": [
       "count    345.000000\n",
       "mean       3.101449\n",
       "std        1.093651\n",
       "min        1.000000\n",
       "25%        2.000000\n",
       "50%        3.000000\n",
       "75%        4.000000\n",
       "max        5.000000\n",
       "Name: goout, dtype: float64"
      ]
     },
     "execution_count": 84,
     "metadata": {},
     "output_type": "execute_result"
    },
    {
     "data": {
      "image/png": "[encoded data removed]",
      "text/plain": [
       "<Figure size 432x288 with 1 Axes>"
      ]
     },
     "metadata": {
      "needs_background": "light"
     },
     "output_type": "display_data"
    }
   ],
   "source": [
    "dk.goout.hist()\n",
    "dk.goout.describe()"
   ]
  },
  {
   "cell_type": "code",
   "execution_count": 85,
   "metadata": {},
   "outputs": [
    {
     "data": {
      "text/plain": [
       "<matplotlib.axes._subplots.AxesSubplot at 0xc5a0910>"
      ]
     },
     "execution_count": 85,
     "metadata": {},
     "output_type": "execute_result"
    },
    {
     "data": {
      "image/png": "[encoded data removed]",
      "text/plain": [
       "<Figure size 432x288 with 1 Axes>"
      ]
     },
     "metadata": {
      "needs_background": "light"
     },
     "output_type": "display_data"
    }
   ],
   "source": [
    "dk.goout.plot(kind = 'box', grid = True)"
   ]
  },
  {
   "cell_type": "markdown",
   "metadata": {},
   "source": [
    "Выбросов нет. Нормальное такое распределение (каламбурчик'с, в настоящих отчетах места шуткам нет) 8 человек NaN-ов категорируем по медиане."
   ]
  },
  {
   "cell_type": "code",
   "execution_count": 86,
   "metadata": {},
   "outputs": [],
   "source": [
    "dk.goout.fillna(3.0, inplace = True)"
   ]
  },
  {
   "cell_type": "code",
   "execution_count": 87,
   "metadata": {},
   "outputs": [
    {
     "name": "stdout",
     "output_type": "stream",
     "text": [
      "<class 'pandas.core.frame.DataFrame'>\n",
      "Int64Index: 353 entries, 0 to 394\n",
      "Data columns (total 29 columns):\n",
      " #   Column      Non-Null Count  Dtype  \n",
      "---  ------      --------------  -----  \n",
      " 0   school      353 non-null    object \n",
      " 1   sex         353 non-null    object \n",
      " 2   age         353 non-null    int64  \n",
      " 3   address     353 non-null    object \n",
      " 4   famsize     353 non-null    object \n",
      " 5   Pstatus     353 non-null    object \n",
      " 6   Medu        353 non-null    float64\n",
      " 7   Fedu        353 non-null    float64\n",
      " 8   Mjob        353 non-null    object \n",
      " 9   Fjob        353 non-null    object \n",
      " 10  reason      353 non-null    object \n",
      " 11  guardian    353 non-null    object \n",
      " 12  traveltime  353 non-null    float64\n",
      " 13  studytime   353 non-null    float64\n",
      " 14  failures    353 non-null    float64\n",
      " 15  schoolsup   353 non-null    object \n",
      " 16  famsup      353 non-null    object \n",
      " 17  paid        353 non-null    object \n",
      " 18  activities  353 non-null    object \n",
      " 19  nursery     353 non-null    object \n",
      " 20  higher      353 non-null    object \n",
      " 21  internet    353 non-null    object \n",
      " 22  romantic    353 non-null    object \n",
      " 23  famrel      353 non-null    float64\n",
      " 24  freetime    353 non-null    float64\n",
      " 25  goout       353 non-null    float64\n",
      " 26  health      341 non-null    float64\n",
      " 27  absences    341 non-null    float64\n",
      " 28  score       347 non-null    float64\n",
      "dtypes: float64(11), int64(1), object(17)\n",
      "memory usage: 82.7+ KB\n"
     ]
    }
   ],
   "source": [
    "dk.info()"
   ]
  },
  {
   "cell_type": "markdown",
   "metadata": {},
   "source": [
    "## Колонка health"
   ]
  },
  {
   "cell_type": "code",
   "execution_count": 88,
   "metadata": {},
   "outputs": [
    {
     "data": {
      "text/plain": [
       "count    341.000000\n",
       "mean       3.527859\n",
       "std        1.381586\n",
       "min        1.000000\n",
       "25%        3.000000\n",
       "50%        4.000000\n",
       "75%        5.000000\n",
       "max        5.000000\n",
       "Name: health, dtype: float64"
      ]
     },
     "execution_count": 88,
     "metadata": {},
     "output_type": "execute_result"
    },
    {
     "data": {
      "image/png": "[encoded data removed]",
      "text/plain": [
       "<Figure size 432x288 with 1 Axes>"
      ]
     },
     "metadata": {
      "needs_background": "light"
     },
     "output_type": "display_data"
    }
   ],
   "source": [
    "dk.health.hist()\n",
    "dk.health.describe()"
   ]
  },
  {
   "cell_type": "code",
   "execution_count": 89,
   "metadata": {},
   "outputs": [
    {
     "data": {
      "text/plain": [
       "<matplotlib.axes._subplots.AxesSubplot at 0xc5e37f0>"
      ]
     },
     "execution_count": 89,
     "metadata": {},
     "output_type": "execute_result"
    },
    {
     "data": {
      "image/png": "[encoded data removed]",
      "text/plain": [
       "<Figure size 432x288 with 1 Axes>"
      ]
     },
     "metadata": {
      "needs_background": "light"
     },
     "output_type": "display_data"
    }
   ],
   "source": [
    "dk.health.plot(kind = 'box', grid = True)"
   ]
  },
  {
   "cell_type": "markdown",
   "metadata": {},
   "source": [
    "Выбросов нет. Большинство детишек здоровы, хотя и с плохим здоровьем тоже не мало. 3% NaN-ов присвоим значение медианы"
   ]
  },
  {
   "cell_type": "code",
   "execution_count": 90,
   "metadata": {},
   "outputs": [],
   "source": [
    "dk.health.fillna(3.0, inplace = True)"
   ]
  },
  {
   "cell_type": "code",
   "execution_count": 91,
   "metadata": {},
   "outputs": [
    {
     "name": "stdout",
     "output_type": "stream",
     "text": [
      "<class 'pandas.core.frame.DataFrame'>\n",
      "Int64Index: 353 entries, 0 to 394\n",
      "Data columns (total 29 columns):\n",
      " #   Column      Non-Null Count  Dtype  \n",
      "---  ------      --------------  -----  \n",
      " 0   school      353 non-null    object \n",
      " 1   sex         353 non-null    object \n",
      " 2   age         353 non-null    int64  \n",
      " 3   address     353 non-null    object \n",
      " 4   famsize     353 non-null    object \n",
      " 5   Pstatus     353 non-null    object \n",
      " 6   Medu        353 non-null    float64\n",
      " 7   Fedu        353 non-null    float64\n",
      " 8   Mjob        353 non-null    object \n",
      " 9   Fjob        353 non-null    object \n",
      " 10  reason      353 non-null    object \n",
      " 11  guardian    353 non-null    object \n",
      " 12  traveltime  353 non-null    float64\n",
      " 13  studytime   353 non-null    float64\n",
      " 14  failures    353 non-null    float64\n",
      " 15  schoolsup   353 non-null    object \n",
      " 16  famsup      353 non-null    object \n",
      " 17  paid        353 non-null    object \n",
      " 18  activities  353 non-null    object \n",
      " 19  nursery     353 non-null    object \n",
      " 20  higher      353 non-null    object \n",
      " 21  internet    353 non-null    object \n",
      " 22  romantic    353 non-null    object \n",
      " 23  famrel      353 non-null    float64\n",
      " 24  freetime    353 non-null    float64\n",
      " 25  goout       353 non-null    float64\n",
      " 26  health      353 non-null    float64\n",
      " 27  absences    341 non-null    float64\n",
      " 28  score       347 non-null    float64\n",
      "dtypes: float64(11), int64(1), object(17)\n",
      "memory usage: 82.7+ KB\n"
     ]
    }
   ],
   "source": [
    "dk.info()"
   ]
  },
  {
   "cell_type": "markdown",
   "metadata": {},
   "source": [
    "## Колонка absences"
   ]
  },
  {
   "cell_type": "code",
   "execution_count": 92,
   "metadata": {},
   "outputs": [
    {
     "data": {
      "text/plain": [
       "count    341.000000\n",
       "mean       7.392962\n",
       "std       24.771624\n",
       "min        0.000000\n",
       "25%        0.000000\n",
       "50%        4.000000\n",
       "75%        8.000000\n",
       "max      385.000000\n",
       "Name: absences, dtype: float64"
      ]
     },
     "execution_count": 92,
     "metadata": {},
     "output_type": "execute_result"
    },
    {
     "data": {
      "image/png": "[encoded data removed]",
      "text/plain": [
       "<Figure size 432x288 with 1 Axes>"
      ]
     },
     "metadata": {
      "needs_background": "light"
     },
     "output_type": "display_data"
    }
   ],
   "source": [
    "dk.absences.hist()\n",
    "dk.absences.describe()"
   ]
  },
  {
   "cell_type": "code",
   "execution_count": 93,
   "metadata": {},
   "outputs": [
    {
     "data": {
      "text/plain": [
       "<matplotlib.axes._subplots.AxesSubplot at 0xbfa00a0>"
      ]
     },
     "execution_count": 93,
     "metadata": {},
     "output_type": "execute_result"
    },
    {
     "data": {
      "image/png": "[encoded data removed]",
      "text/plain": [
       "<Figure size 432x288 with 1 Axes>"
      ]
     },
     "metadata": {
      "needs_background": "light"
     },
     "output_type": "display_data"
    }
   ],
   "source": [
    "dk.absences.plot(kind = 'box', grid = True)"
   ]
  },
  {
   "cell_type": "markdown",
   "metadata": {},
   "source": [
    "Выбросы есть и все выше третьего квартиля. Посчитаем границу выброса и отсечем ненужные значения"
   ]
  },
  {
   "cell_type": "code",
   "execution_count": 94,
   "metadata": {},
   "outputs": [],
   "source": [
    "IQR = dk.absences.quantile(0.75) - dk.absences.quantile(0.25) # Межквартильный размах\n",
    "above_outliers = dk.absences.quantile(0.75) + 1.5*IQR\n",
    "\n",
    "dk = dk[(dk.absences < above_outliers)]"
   ]
  },
  {
   "cell_type": "markdown",
   "metadata": {},
   "source": [
    "Возможно следовало сразу отбросить значения выше 100, а затем вычислять выбросы уже без этих сумасшедших значений? Надеюсь в комментариях к оценке вы мне это подскажете. В данном случае заполним пустые значения модой, т.к. выбросы очень сильно повлияли на медиану и среднее"
   ]
  },
  {
   "cell_type": "code",
   "execution_count": 95,
   "metadata": {},
   "outputs": [],
   "source": [
    "dk.absences.fillna(0.0, inplace = True)"
   ]
  },
  {
   "cell_type": "code",
   "execution_count": 96,
   "metadata": {},
   "outputs": [
    {
     "name": "stdout",
     "output_type": "stream",
     "text": [
      "<class 'pandas.core.frame.DataFrame'>\n",
      "Int64Index: 321 entries, 0 to 394\n",
      "Data columns (total 29 columns):\n",
      " #   Column      Non-Null Count  Dtype  \n",
      "---  ------      --------------  -----  \n",
      " 0   school      321 non-null    object \n",
      " 1   sex         321 non-null    object \n",
      " 2   age         321 non-null    int64  \n",
      " 3   address     321 non-null    object \n",
      " 4   famsize     321 non-null    object \n",
      " 5   Pstatus     321 non-null    object \n",
      " 6   Medu        321 non-null    float64\n",
      " 7   Fedu        321 non-null    float64\n",
      " 8   Mjob        321 non-null    object \n",
      " 9   Fjob        321 non-null    object \n",
      " 10  reason      321 non-null    object \n",
      " 11  guardian    321 non-null    object \n",
      " 12  traveltime  321 non-null    float64\n",
      " 13  studytime   321 non-null    float64\n",
      " 14  failures    321 non-null    float64\n",
      " 15  schoolsup   321 non-null    object \n",
      " 16  famsup      321 non-null    object \n",
      " 17  paid        321 non-null    object \n",
      " 18  activities  321 non-null    object \n",
      " 19  nursery     321 non-null    object \n",
      " 20  higher      321 non-null    object \n",
      " 21  internet    321 non-null    object \n",
      " 22  romantic    321 non-null    object \n",
      " 23  famrel      321 non-null    float64\n",
      " 24  freetime    321 non-null    float64\n",
      " 25  goout       321 non-null    float64\n",
      " 26  health      321 non-null    float64\n",
      " 27  absences    321 non-null    float64\n",
      " 28  score       316 non-null    float64\n",
      "dtypes: float64(11), int64(1), object(17)\n",
      "memory usage: 75.2+ KB\n"
     ]
    }
   ],
   "source": [
    "dk.info()"
   ]
  },
  {
   "cell_type": "markdown",
   "metadata": {},
   "source": [
    "## Колонка score"
   ]
  },
  {
   "cell_type": "code",
   "execution_count": 97,
   "metadata": {},
   "outputs": [
    {
     "data": {
      "text/plain": [
       "count    316.000000\n",
       "mean      51.867089\n",
       "std       23.045739\n",
       "min        0.000000\n",
       "25%       40.000000\n",
       "50%       55.000000\n",
       "75%       70.000000\n",
       "max      100.000000\n",
       "Name: score, dtype: float64"
      ]
     },
     "execution_count": 97,
     "metadata": {},
     "output_type": "execute_result"
    },
    {
     "data": {
      "image/png": "[encoded data removed]",
      "text/plain": [
       "<Figure size 432x288 with 1 Axes>"
      ]
     },
     "metadata": {
      "needs_background": "light"
     },
     "output_type": "display_data"
    }
   ],
   "source": [
    "dk.score.hist()\n",
    "dk.score.describe()"
   ]
  },
  {
   "cell_type": "code",
   "execution_count": 98,
   "metadata": {},
   "outputs": [
    {
     "data": {
      "text/plain": [
       "<matplotlib.axes._subplots.AxesSubplot at 0xc2711f0>"
      ]
     },
     "execution_count": 98,
     "metadata": {},
     "output_type": "execute_result"
    },
    {
     "data": {
      "image/png": "[encoded data removed]",
      "text/plain": [
       "<Figure size 432x288 with 1 Axes>"
      ]
     },
     "metadata": {
      "needs_background": "light"
     },
     "output_type": "display_data"
    }
   ],
   "source": [
    "dk.score.plot(kind = 'box', grid = True)"
   ]
  },
  {
   "cell_type": "markdown",
   "metadata": {},
   "source": [
    "Выбросов нет. Оценки превалируют средние от 40 до 80 по стобалльной системе. Особняком стоят группа балбесов (примерно 10%) которые не учаться совсем. Значением медианы заполним 1.5% NaN-ов и приступим к анализу"
   ]
  },
  {
   "cell_type": "code",
   "execution_count": 99,
   "metadata": {},
   "outputs": [],
   "source": [
    "dk.score.fillna(dk.score.median(), inplace = True)"
   ]
  },
  {
   "cell_type": "code",
   "execution_count": 100,
   "metadata": {},
   "outputs": [
    {
     "name": "stdout",
     "output_type": "stream",
     "text": [
      "<class 'pandas.core.frame.DataFrame'>\n",
      "Int64Index: 321 entries, 0 to 394\n",
      "Data columns (total 29 columns):\n",
      " #   Column      Non-Null Count  Dtype  \n",
      "---  ------      --------------  -----  \n",
      " 0   school      321 non-null    object \n",
      " 1   sex         321 non-null    object \n",
      " 2   age         321 non-null    int64  \n",
      " 3   address     321 non-null    object \n",
      " 4   famsize     321 non-null    object \n",
      " 5   Pstatus     321 non-null    object \n",
      " 6   Medu        321 non-null    float64\n",
      " 7   Fedu        321 non-null    float64\n",
      " 8   Mjob        321 non-null    object \n",
      " 9   Fjob        321 non-null    object \n",
      " 10  reason      321 non-null    object \n",
      " 11  guardian    321 non-null    object \n",
      " 12  traveltime  321 non-null    float64\n",
      " 13  studytime   321 non-null    float64\n",
      " 14  failures    321 non-null    float64\n",
      " 15  schoolsup   321 non-null    object \n",
      " 16  famsup      321 non-null    object \n",
      " 17  paid        321 non-null    object \n",
      " 18  activities  321 non-null    object \n",
      " 19  nursery     321 non-null    object \n",
      " 20  higher      321 non-null    object \n",
      " 21  internet    321 non-null    object \n",
      " 22  romantic    321 non-null    object \n",
      " 23  famrel      321 non-null    float64\n",
      " 24  freetime    321 non-null    float64\n",
      " 25  goout       321 non-null    float64\n",
      " 26  health      321 non-null    float64\n",
      " 27  absences    321 non-null    float64\n",
      " 28  score       321 non-null    float64\n",
      "dtypes: float64(11), int64(1), object(17)\n",
      "memory usage: 75.2+ KB\n"
     ]
    }
   ],
   "source": [
    "dk.info()"
   ]
  },
  {
   "cell_type": "markdown",
   "metadata": {},
   "source": [
    "# Анализ данных"
   ]
  },
  {
   "cell_type": "markdown",
   "metadata": {},
   "source": [
    "## Корреляционный анализ"
   ]
  },
  {
   "cell_type": "code",
   "execution_count": 102,
   "metadata": {},
   "outputs": [
    {
     "data": {
      "text/html": [
       "<div>\n",
       "<style scoped>\n",
       "    .dataframe tbody tr th:only-of-type {\n",
       "        vertical-align: middle;\n",
       "    }\n",
       "\n",
       "    .dataframe tbody tr th {\n",
       "        vertical-align: top;\n",
       "    }\n",
       "\n",
       "    .dataframe thead th {\n",
       "        text-align: right;\n",
       "    }\n",
       "</style>\n",
       "<table border=\"1\" class=\"dataframe\">\n",
       "  <thead>\n",
       "    <tr style=\"text-align: right;\">\n",
       "      <th></th>\n",
       "      <th>age</th>\n",
       "      <th>Medu</th>\n",
       "      <th>Fedu</th>\n",
       "      <th>traveltime</th>\n",
       "      <th>studytime</th>\n",
       "      <th>failures</th>\n",
       "      <th>famrel</th>\n",
       "      <th>freetime</th>\n",
       "      <th>goout</th>\n",
       "      <th>health</th>\n",
       "      <th>absences</th>\n",
       "      <th>score</th>\n",
       "    </tr>\n",
       "  </thead>\n",
       "  <tbody>\n",
       "    <tr>\n",
       "      <th>age</th>\n",
       "      <td>1.000000</td>\n",
       "      <td>-0.176670</td>\n",
       "      <td>-0.180180</td>\n",
       "      <td>0.124061</td>\n",
       "      <td>0.039629</td>\n",
       "      <td>0.195294</td>\n",
       "      <td>0.039263</td>\n",
       "      <td>0.056068</td>\n",
       "      <td>0.141868</td>\n",
       "      <td>-0.026869</td>\n",
       "      <td>0.114517</td>\n",
       "      <td>-0.161125</td>\n",
       "    </tr>\n",
       "    <tr>\n",
       "      <th>Medu</th>\n",
       "      <td>-0.176670</td>\n",
       "      <td>1.000000</td>\n",
       "      <td>0.632739</td>\n",
       "      <td>-0.137120</td>\n",
       "      <td>0.074522</td>\n",
       "      <td>-0.252464</td>\n",
       "      <td>0.015474</td>\n",
       "      <td>0.005703</td>\n",
       "      <td>0.042767</td>\n",
       "      <td>-0.011377</td>\n",
       "      <td>0.071188</td>\n",
       "      <td>0.186403</td>\n",
       "    </tr>\n",
       "    <tr>\n",
       "      <th>Fedu</th>\n",
       "      <td>-0.180180</td>\n",
       "      <td>0.632739</td>\n",
       "      <td>1.000000</td>\n",
       "      <td>-0.082527</td>\n",
       "      <td>-0.018376</td>\n",
       "      <td>-0.279556</td>\n",
       "      <td>-0.017641</td>\n",
       "      <td>-0.002341</td>\n",
       "      <td>0.025689</td>\n",
       "      <td>0.042333</td>\n",
       "      <td>0.006329</td>\n",
       "      <td>0.102611</td>\n",
       "    </tr>\n",
       "    <tr>\n",
       "      <th>traveltime</th>\n",
       "      <td>0.124061</td>\n",
       "      <td>-0.137120</td>\n",
       "      <td>-0.082527</td>\n",
       "      <td>1.000000</td>\n",
       "      <td>-0.121791</td>\n",
       "      <td>0.017550</td>\n",
       "      <td>-0.056101</td>\n",
       "      <td>-0.026862</td>\n",
       "      <td>-0.036140</td>\n",
       "      <td>-0.038581</td>\n",
       "      <td>-0.089674</td>\n",
       "      <td>-0.083172</td>\n",
       "    </tr>\n",
       "    <tr>\n",
       "      <th>studytime</th>\n",
       "      <td>0.039629</td>\n",
       "      <td>0.074522</td>\n",
       "      <td>-0.018376</td>\n",
       "      <td>-0.121791</td>\n",
       "      <td>1.000000</td>\n",
       "      <td>-0.121254</td>\n",
       "      <td>0.079508</td>\n",
       "      <td>-0.118561</td>\n",
       "      <td>-0.014171</td>\n",
       "      <td>-0.061916</td>\n",
       "      <td>-0.048313</td>\n",
       "      <td>0.130541</td>\n",
       "    </tr>\n",
       "    <tr>\n",
       "      <th>failures</th>\n",
       "      <td>0.195294</td>\n",
       "      <td>-0.252464</td>\n",
       "      <td>-0.279556</td>\n",
       "      <td>0.017550</td>\n",
       "      <td>-0.121254</td>\n",
       "      <td>1.000000</td>\n",
       "      <td>-0.020429</td>\n",
       "      <td>0.089132</td>\n",
       "      <td>0.009594</td>\n",
       "      <td>0.083281</td>\n",
       "      <td>0.081389</td>\n",
       "      <td>-0.304154</td>\n",
       "    </tr>\n",
       "    <tr>\n",
       "      <th>famrel</th>\n",
       "      <td>0.039263</td>\n",
       "      <td>0.015474</td>\n",
       "      <td>-0.017641</td>\n",
       "      <td>-0.056101</td>\n",
       "      <td>0.079508</td>\n",
       "      <td>-0.020429</td>\n",
       "      <td>1.000000</td>\n",
       "      <td>0.131847</td>\n",
       "      <td>0.038496</td>\n",
       "      <td>0.030369</td>\n",
       "      <td>-0.039211</td>\n",
       "      <td>0.069674</td>\n",
       "    </tr>\n",
       "    <tr>\n",
       "      <th>freetime</th>\n",
       "      <td>0.056068</td>\n",
       "      <td>0.005703</td>\n",
       "      <td>-0.002341</td>\n",
       "      <td>-0.026862</td>\n",
       "      <td>-0.118561</td>\n",
       "      <td>0.089132</td>\n",
       "      <td>0.131847</td>\n",
       "      <td>1.000000</td>\n",
       "      <td>0.253139</td>\n",
       "      <td>0.056375</td>\n",
       "      <td>0.069037</td>\n",
       "      <td>0.011911</td>\n",
       "    </tr>\n",
       "    <tr>\n",
       "      <th>goout</th>\n",
       "      <td>0.141868</td>\n",
       "      <td>0.042767</td>\n",
       "      <td>0.025689</td>\n",
       "      <td>-0.036140</td>\n",
       "      <td>-0.014171</td>\n",
       "      <td>0.009594</td>\n",
       "      <td>0.038496</td>\n",
       "      <td>0.253139</td>\n",
       "      <td>1.000000</td>\n",
       "      <td>0.022023</td>\n",
       "      <td>0.108292</td>\n",
       "      <td>-0.145097</td>\n",
       "    </tr>\n",
       "    <tr>\n",
       "      <th>health</th>\n",
       "      <td>-0.026869</td>\n",
       "      <td>-0.011377</td>\n",
       "      <td>0.042333</td>\n",
       "      <td>-0.038581</td>\n",
       "      <td>-0.061916</td>\n",
       "      <td>0.083281</td>\n",
       "      <td>0.030369</td>\n",
       "      <td>0.056375</td>\n",
       "      <td>0.022023</td>\n",
       "      <td>1.000000</td>\n",
       "      <td>0.035197</td>\n",
       "      <td>-0.030211</td>\n",
       "    </tr>\n",
       "    <tr>\n",
       "      <th>absences</th>\n",
       "      <td>0.114517</td>\n",
       "      <td>0.071188</td>\n",
       "      <td>0.006329</td>\n",
       "      <td>-0.089674</td>\n",
       "      <td>-0.048313</td>\n",
       "      <td>0.081389</td>\n",
       "      <td>-0.039211</td>\n",
       "      <td>0.069037</td>\n",
       "      <td>0.108292</td>\n",
       "      <td>0.035197</td>\n",
       "      <td>1.000000</td>\n",
       "      <td>0.081372</td>\n",
       "    </tr>\n",
       "    <tr>\n",
       "      <th>score</th>\n",
       "      <td>-0.161125</td>\n",
       "      <td>0.186403</td>\n",
       "      <td>0.102611</td>\n",
       "      <td>-0.083172</td>\n",
       "      <td>0.130541</td>\n",
       "      <td>-0.304154</td>\n",
       "      <td>0.069674</td>\n",
       "      <td>0.011911</td>\n",
       "      <td>-0.145097</td>\n",
       "      <td>-0.030211</td>\n",
       "      <td>0.081372</td>\n",
       "      <td>1.000000</td>\n",
       "    </tr>\n",
       "  </tbody>\n",
       "</table>\n",
       "</div>"
      ],
      "text/plain": [
       "                 age      Medu      Fedu  traveltime  studytime  failures  \\\n",
       "age         1.000000 -0.176670 -0.180180    0.124061   0.039629  0.195294   \n",
       "Medu       -0.176670  1.000000  0.632739   -0.137120   0.074522 -0.252464   \n",
       "Fedu       -0.180180  0.632739  1.000000   -0.082527  -0.018376 -0.279556   \n",
       "traveltime  0.124061 -0.137120 -0.082527    1.000000  -0.121791  0.017550   \n",
       "studytime   0.039629  0.074522 -0.018376   -0.121791   1.000000 -0.121254   \n",
       "failures    0.195294 -0.252464 -0.279556    0.017550  -0.121254  1.000000   \n",
       "famrel      0.039263  0.015474 -0.017641   -0.056101   0.079508 -0.020429   \n",
       "freetime    0.056068  0.005703 -0.002341   -0.026862  -0.118561  0.089132   \n",
       "goout       0.141868  0.042767  0.025689   -0.036140  -0.014171  0.009594   \n",
       "health     -0.026869 -0.011377  0.042333   -0.038581  -0.061916  0.083281   \n",
       "absences    0.114517  0.071188  0.006329   -0.089674  -0.048313  0.081389   \n",
       "score      -0.161125  0.186403  0.102611   -0.083172   0.130541 -0.304154   \n",
       "\n",
       "              famrel  freetime     goout    health  absences     score  \n",
       "age         0.039263  0.056068  0.141868 -0.026869  0.114517 -0.161125  \n",
       "Medu        0.015474  0.005703  0.042767 -0.011377  0.071188  0.186403  \n",
       "Fedu       -0.017641 -0.002341  0.025689  0.042333  0.006329  0.102611  \n",
       "traveltime -0.056101 -0.026862 -0.036140 -0.038581 -0.089674 -0.083172  \n",
       "studytime   0.079508 -0.118561 -0.014171 -0.061916 -0.048313  0.130541  \n",
       "failures   -0.020429  0.089132  0.009594  0.083281  0.081389 -0.304154  \n",
       "famrel      1.000000  0.131847  0.038496  0.030369 -0.039211  0.069674  \n",
       "freetime    0.131847  1.000000  0.253139  0.056375  0.069037  0.011911  \n",
       "goout       0.038496  0.253139  1.000000  0.022023  0.108292 -0.145097  \n",
       "health      0.030369  0.056375  0.022023  1.000000  0.035197 -0.030211  \n",
       "absences   -0.039211  0.069037  0.108292  0.035197  1.000000  0.081372  \n",
       "score       0.069674  0.011911 -0.145097 -0.030211  0.081372  1.000000  "
      ]
     },
     "execution_count": 102,
     "metadata": {},
     "output_type": "execute_result"
    }
   ],
   "source": [
    "dk.corr()"
   ]
  },
  {
   "cell_type": "markdown",
   "metadata": {},
   "source": [
    "Корреляция по всем признакам в таблице довольно слабая можно сказать о небольшом влиянии приведенных параметров на оценки учеников. Хотя опыта у меня нет возможно полученные значения говорят о каком то влиянии на оценку\n",
    "Пробежимся коротенечко по всем параметрам\n",
    "1. Возраст: чем моложе тем лучше балл, но корреляция слабая (-0,16)\n",
    "2. Образование матери и отца: есть тенденция, чем выше образование родителей, тем лучше оценки ученика \n",
    "3. Время в пути до школы: удивительно но чем дольше ехать до школы тем ниже балл. Коэф. -0,08\n",
    "4. Внеклассные занятия положительно влияют на оценку, что логично. Коэф. 0,13\n",
    "5. Глядя на этот показатель теперь думаю что выбросы надо было исключить (или нет), тем не менее видно что неудачи негативно влияют на оценку. Коэф. -0,3\n",
    "6. Семейные отношения не сильно но влияют на оценки, но чем гармоничнее обстановка дома тем лучше учеба. Коэф. 0,06\n",
    "7. Свободное время после школы практически не влияет на результат учебы. Коэф. 0,01\n",
    "8. Проведенное время с друзьями негативно влияет на оценку, зато потом есть что вспомнить. Коэф. -0,145\n",
    "9.  Здесь вряд ли можно ориентироваться на цифры, чем здоровей, тем хуже учиться? Коэф. -0,03\n",
    "10. Чем больше занятий пропустил, тем больше оценка. Хм. Умники и так все знают, ходить на уроки не надо? Но корреляция все равно слабая 0,08"
   ]
  },
  {
   "cell_type": "code",
   "execution_count": 115,
   "metadata": {},
   "outputs": [],
   "source": [
    "# Исключим колонки с коэффициентом корреляции лежащим в пределах -0,1:0,1 как незначительные\n",
    "dk.drop(['traveltime', 'famrel', 'freetime', 'health', 'absences'], inplace = True, axis = 1)"
   ]
  },
  {
   "cell_type": "markdown",
   "metadata": {},
   "source": [
    "## Анализ номинативных переменных"
   ]
  },
  {
   "cell_type": "markdown",
   "metadata": {},
   "source": [
    "Коэффициент стьюдента пока не освоил, а копировать не понимая смысла не хочеться. Исправлюсь. Анализ проведу по боксплотам."
   ]
  },
  {
   "cell_type": "code",
   "execution_count": 116,
   "metadata": {},
   "outputs": [],
   "source": [
    "def draw_plot(column):\n",
    "    fig, ax = plt.subplots(figsize = (6, 5))\n",
    "    sns.boxplot(x=column, y='score', data=dk, ax=ax)\n",
    "    \n",
    "    ax.set_title('Зависимость оценки от ' + column)\n",
    "    plt.show()"
   ]
  },
  {
   "cell_type": "code",
   "execution_count": 117,
   "metadata": {},
   "outputs": [
    {
     "data": {
      "image/png": "[encoded data removed]",
      "text/plain": [
       "<Figure size 432x360 with 1 Axes>"
      ]
     },
     "metadata": {
      "needs_background": "light"
     },
     "output_type": "display_data"
    },
    {
     "data": {
      "image/png": "[encoded data removed]",
      "text/plain": [
       "<Figure size 432x360 with 1 Axes>"
      ]
     },
     "metadata": {
      "needs_background": "light"
     },
     "output_type": "display_data"
    },
    {
     "data": {
      "image/png": "[encoded data removed]",
      "text/plain": [
       "<Figure size 432x360 with 1 Axes>"
      ]
     },
     "metadata": {
      "needs_background": "light"
     },
     "output_type": "display_data"
    },
    {
     "data": {
      "image/png": "[encoded data removed]",
      "text/plain": [
       "<Figure size 432x360 with 1 Axes>"
      ]
     },
     "metadata": {
      "needs_background": "light"
     },
     "output_type": "display_data"
    },
    {
     "data": {
      "image/png": "[encoded data removed]",
      "text/plain": [
       "<Figure size 432x360 with 1 Axes>"
      ]
     },
     "metadata": {
      "needs_background": "light"
     },
     "output_type": "display_data"
    },
    {
     "data": {
      "image/png": "[encoded data removed]",
      "text/plain": [
       "<Figure size 432x360 with 1 Axes>"
      ]
     },
     "metadata": {
      "needs_background": "light"
     },
     "output_type": "display_data"
    },
    {
     "data": {
      "image/png": "[encoded data removed]",
      "text/plain": [
       "<Figure size 432x360 with 1 Axes>"
      ]
     },
     "metadata": {
      "needs_background": "light"
     },
     "output_type": "display_data"
    },
    {
     "data": {
      "image/png": "[encoded data removed]",
      "text/plain": [
       "<Figure size 432x360 with 1 Axes>"
      ]
     },
     "metadata": {
      "needs_background": "light"
     },
     "output_type": "display_data"
    },
    {
     "data": {
      "image/png": "[encoded data removed]",
      "text/plain": [
       "<Figure size 432x360 with 1 Axes>"
      ]
     },
     "metadata": {
      "needs_background": "light"
     },
     "output_type": "display_data"
    },
    {
     "data": {
      "image/png": "[encoded data removed]",
      "text/plain": [
       "<Figure size 432x360 with 1 Axes>"
      ]
     },
     "metadata": {
      "needs_background": "light"
     },
     "output_type": "display_data"
    },
    {
     "data": {
      "image/png": "[encoded data removed]",
      "text/plain": [
       "<Figure size 432x360 with 1 Axes>"
      ]
     },
     "metadata": {
      "needs_background": "light"
     },
     "output_type": "display_data"
    },
    {
     "data": {
      "image/png": "[encoded data removed]",
      "text/plain": [
       "<Figure size 432x360 with 1 Axes>"
      ]
     },
     "metadata": {
      "needs_background": "light"
     },
     "output_type": "display_data"
    },
    {
     "data": {
      "image/png": "[encoded data removed]",
      "text/plain": [
       "<Figure size 432x360 with 1 Axes>"
      ]
     },
     "metadata": {
      "needs_background": "light"
     },
     "output_type": "display_data"
    },
    {
     "data": {
      "image/png": "[encoded data removed]",
      "text/plain": [
       "<Figure size 432x360 with 1 Axes>"
      ]
     },
     "metadata": {
      "needs_background": "light"
     },
     "output_type": "display_data"
    },
    {
     "data": {
      "image/png": "[encoded data removed]",
      "text/plain": [
       "<Figure size 432x360 with 1 Axes>"
      ]
     },
     "metadata": {
      "needs_background": "light"
     },
     "output_type": "display_data"
    },
    {
     "data": {
      "image/png": "[encoded data removed]",
      "text/plain": [
       "<Figure size 432x360 with 1 Axes>"
      ]
     },
     "metadata": {
      "needs_background": "light"
     },
     "output_type": "display_data"
    },
    {
     "data": {
      "image/png": "[encoded data removed]",
      "text/plain": [
       "<Figure size 432x360 with 1 Axes>"
      ]
     },
     "metadata": {
      "needs_background": "light"
     },
     "output_type": "display_data"
    }
   ],
   "source": [
    "for nv in ['school', 'sex', 'address', 'famsize', 'Pstatus', 'Mjob', 'Fjob', 'reason', 'guardian', 'schoolsup', 'famsup',\n",
    "           'paid', 'activities', 'nursery', 'higher', 'internet', 'romantic']:\n",
    "    draw_plot(nv)"
   ]
  },
  {
   "cell_type": "markdown",
   "metadata": {},
   "source": [
    "1. Зависимость от школы. В школе MS результаты более плотные у учеников средний уровень оценок. В GP разброс оценок больше, но и учеников там гораздо больше\n",
    "2. Зависимость от пола. Мальчики в среднем учат математику чуть лучше\n",
    "3. Зависимость от места проживания. Городские учаться немного лучше\n",
    "4. Размер семьи. Практически не влияет на оценки\n",
    "5. Совместное проживание родителей. Практически не влияет\n",
    "6. У матерей врачей дети учаться сильно лучше остальных. У домохозяек хуже всех\n",
    "7. От места работы отцов оценка не зависит\n",
    "8. От причины выбора школы оценка не зависит\n",
    "9. От опекунства оценка не зависит\n",
    "10. От доп. образовательной поддержки оценка почти не зависит, с ней даже немного хуже\n",
    "11. От семейной образовательной поддержки оценка не зависит\n",
    "12. От платных занятий толку не много, но те кто ходит не получают совсем уж низкие оценки\n",
    "13. От внеучебных занятий оценка не зависит\n",
    "14. От посещения дет сада в прошлом оценка не зависит\n",
    "15. Желание получить высшее образование мотивирует учиться лучше\n",
    "16. У учеников без интернета почти нет экстремально низких и высоких значений оценок, но в целом это не влияет на результат\n",
    "17. Наличие романтических отношений не влияет на оценку\n"
   ]
  },
  {
   "cell_type": "markdown",
   "metadata": {},
   "source": [
    "По хорошему ничего кроме желания получить высшее образование и образования матерей не влияет на оценку. Отсеиваем безжалостно 15 колонок из 17"
   ]
  },
  {
   "cell_type": "code",
   "execution_count": 118,
   "metadata": {},
   "outputs": [],
   "source": [
    "dk.drop(['school', 'sex', 'address', 'famsize', 'Pstatus', 'Fjob', 'reason', 'guardian', 'schoolsup', 'famsup',\n",
    "           'paid', 'activities', 'nursery', 'internet', 'romantic'], inplace = True, axis = 1)"
   ]
  },
  {
   "cell_type": "code",
   "execution_count": 119,
   "metadata": {},
   "outputs": [
    {
     "name": "stdout",
     "output_type": "stream",
     "text": [
      "<class 'pandas.core.frame.DataFrame'>\n",
      "Int64Index: 321 entries, 0 to 394\n",
      "Data columns (total 9 columns):\n",
      " #   Column     Non-Null Count  Dtype  \n",
      "---  ------     --------------  -----  \n",
      " 0   age        321 non-null    int64  \n",
      " 1   Medu       321 non-null    float64\n",
      " 2   Fedu       321 non-null    float64\n",
      " 3   Mjob       321 non-null    object \n",
      " 4   studytime  321 non-null    float64\n",
      " 5   failures   321 non-null    float64\n",
      " 6   higher     321 non-null    object \n",
      " 7   goout      321 non-null    float64\n",
      " 8   score      321 non-null    float64\n",
      "dtypes: float64(6), int64(1), object(2)\n",
      "memory usage: 35.1+ KB\n"
     ]
    }
   ],
   "source": [
    "# Вот все что осталось\n",
    "dk.info()"
   ]
  },
  {
   "cell_type": "markdown",
   "metadata": {},
   "source": [
    "# Итоги"
   ]
  },
  {
   "cell_type": "markdown",
   "metadata": {},
   "source": [
    "В результате разведовательного анализа данных можно сделать следующие выводы:\n",
    "\n",
    "1. В данных достаточно много выбросов и присутствуют пропуски. В результате фильтрации датасет \"похудел\" на 20% и некоторые пропуски были заполнены медианами или модами, что несколько снижает точность анализа\n",
    "2. Подавляющее большинство условий жизни и учебы не влияют на успеваемость по математике. \n",
    "3. Тем не менее была выделена группа параметров оказывающих максимальное влияние на успеваемость. В эту группу вошли: образование родителей учащихся, место работы матерей, желание получать высшее образование, жизненные трудности (failures), проведение времени с друзьями, возраст учащихся. Таким образом для построения модели выявления учеников находящихся в группе риска предлагается использовать вышеописанные параметры."
   ]
  }
 ],
 "metadata": {
  "kernelspec": {
   "display_name": "Python 3",
   "language": "python",
   "name": "python3"
  },
  "language_info": {
   "codemirror_mode": {
    "name": "ipython",
    "version": 3
   },
   "file_extension": ".py",
   "mimetype": "text/x-python",
   "name": "python",
   "nbconvert_exporter": "python",
   "pygments_lexer": "ipython3",
   "version": "3.8.3"
  }
 },
 "nbformat": 4,
 "nbformat_minor": 4
}
